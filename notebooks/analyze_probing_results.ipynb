{
 "cells": [
  {
   "cell_type": "markdown",
   "id": "342cfc4f-2145-4ce5-9432-369748f8c3c9",
   "metadata": {},
   "source": [
    "# Analyze probing results\n",
    "- Preprocess a bit. Select the best results from each configuration. Export to the same directory."
   ]
  },
  {
   "cell_type": "code",
   "execution_count": 1,
   "id": "574c2dcb-5ac9-4e9d-9fd3-1312302ae889",
   "metadata": {},
   "outputs": [],
   "source": [
    "from pathlib import Path\n",
    "import pandas as pd\n",
    "import numpy as np"
   ]
  },
  {
   "cell_type": "code",
   "execution_count": 2,
   "id": "68a7376f-ff9c-4ce2-8333-cdc70bc9af45",
   "metadata": {},
   "outputs": [
    {
     "name": "stdout",
     "output_type": "stream",
     "text": [
      "Done processing reports in ../reports/embeddings_roberta_base_corr_500\n",
      "Done processing reports in ../reports/embeddings_roberta_base_corr_6000\n",
      "Done processing reports in ../reports/roberta_base\n",
      "Done processing reports in ../reports/embeddings_roberta_base_corr_4000\n",
      "Done processing reports in ../reports/embeddings_roberta_base_corr_1000\n",
      "Done processing reports in ../reports/xlm_roberta_base\n",
      "Done processing reports in ../reports/embeddings_roberta_base_corr_2000\n",
      "Done processing reports in ../reports/embeddings_roberta_base\n"
     ]
    }
   ],
   "source": [
    "def analyze_results(report_dir):\n",
    "    dfs = []\n",
    "    for p in Path(report_dir).iterdir():\n",
    "        if not p.name.startswith(\"report\"): \n",
    "            continue\n",
    "        dfs.append(pd.read_csv(p))\n",
    "    df = pd.concat(dfs, axis=0)\n",
    "    tasks = []\n",
    "    layers = []\n",
    "    for i, row in df.iterrows():\n",
    "        tasks.append(\"_\".join(row[\"task\"].split(\"_\")[:-2]))\n",
    "        layers.append(int(row[\"task\"].split(\"_\")[-1]))\n",
    "    df.drop(columns=[\"task\"], inplace=True)\n",
    "    df[\"task\"] = tasks\n",
    "    df[\"layer\"] = layers\n",
    "    best_results = df.sort_values(by=[\"val_acc\"], ascending=False).groupby(by=[\"task\", \"config\"]).head(1)\n",
    "    best_results.to_csv(Path(report_dir, \"best_results.csv\"), index=False)\n",
    "    print(\"Done processing reports in\", report_dir)\n",
    "\n",
    "\n",
    "for p in Path(\"../reports\").iterdir():\n",
    "    analyze_results(p)"
   ]
  },
  {
   "cell_type": "code",
   "execution_count": null,
   "id": "f097f79c-8d95-4c60-b2a3-2f2936725228",
   "metadata": {},
   "outputs": [],
   "source": []
  },
  {
   "cell_type": "code",
   "execution_count": null,
   "id": "434290d3-36cf-4028-b068-27dd6aeb54a5",
   "metadata": {},
   "outputs": [],
   "source": []
  },
  {
   "cell_type": "code",
   "execution_count": null,
   "id": "8e23ac2b-5fe1-437e-ae83-b507df44eab6",
   "metadata": {},
   "outputs": [],
   "source": []
  },
  {
   "cell_type": "code",
   "execution_count": null,
   "id": "99d2a44d-1070-4bfa-871b-7c199086f328",
   "metadata": {},
   "outputs": [],
   "source": []
  }
 ],
 "metadata": {
  "kernelspec": {
   "display_name": "Python 3",
   "language": "python",
   "name": "python3"
  },
  "language_info": {
   "codemirror_mode": {
    "name": "ipython",
    "version": 3
   },
   "file_extension": ".py",
   "mimetype": "text/x-python",
   "name": "python",
   "nbconvert_exporter": "python",
   "pygments_lexer": "ipython3",
   "version": "3.8.8"
  }
 },
 "nbformat": 4,
 "nbformat_minor": 5
}
