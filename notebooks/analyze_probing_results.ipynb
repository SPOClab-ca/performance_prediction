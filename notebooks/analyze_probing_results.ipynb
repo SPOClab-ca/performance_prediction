{
 "cells": [
  {
   "cell_type": "markdown",
   "id": "342cfc4f-2145-4ce5-9432-369748f8c3c9",
   "metadata": {},
   "source": [
    "# Analyze probing results\n",
    "- Preprocess a bit. Select the best results from each configuration. Export to the same directory."
   ]
  },
  {
   "cell_type": "code",
   "execution_count": 1,
   "id": "574c2dcb-5ac9-4e9d-9fd3-1312302ae889",
   "metadata": {},
   "outputs": [],
   "source": [
    "from pathlib import Path\n",
    "import pandas as pd\n",
    "import numpy as np"
   ]
  },
  {
   "cell_type": "code",
   "execution_count": 2,
   "id": "68a7376f-ff9c-4ce2-8333-cdc70bc9af45",
   "metadata": {},
   "outputs": [],
   "source": [
    "def analyze_results(report_dir):\n",
    "    dfs = []\n",
    "    for p in Path(report_dir).iterdir():\n",
    "        if not p.name.startswith(\"report\"): \n",
    "            continue\n",
    "        dfs.append(pd.read_csv(p))\n",
    "    df = pd.concat(dfs, axis=0)\n",
    "    tasks = []\n",
    "    layers = []\n",
    "    for i, row in df.iterrows():\n",
    "        tasks.append(\"_\".join(row[\"task\"].split(\"_\")[:-2]))\n",
    "        layers.append(int(row[\"task\"].split(\"_\")[-1]))\n",
    "    df.drop(columns=[\"task\"], inplace=True)\n",
    "    df[\"task\"] = tasks\n",
    "    df[\"layer\"] = layers\n",
    "    return df \n",
    "\n",
    "\n",
    "all_model_best_results = []\n",
    "for p in Path(\"../reports\").iterdir():\n",
    "    if not p.is_dir():\n",
    "        continue\n",
    "    df_best_results = analyze_results(p)\n",
    "    df_best_results[\"LM\"] = [p.name] * len(df_best_results)\n",
    "    all_model_best_results.append(df_best_results) \n",
    "df_all = pd.concat(all_model_best_results, axis=0)\n",
    "# There are 6 LM x 13 layers x 7 (probing) tasks x 3 configs x 7 models x 5 rs\n",
    "# For each {LM, layer, task, config}, average by rs, and take the best model.\n",
    "df_avg = df_all.groupby([\"LM\", \"layer\", \"task\", \"config\", \"model\"], as_index=False).mean()  # 11466 rows\n",
    "df_best_ids = df_avg.groupby([\"LM\", \"layer\", \"task\", \"config\"], as_index=False)[\"val_acc\"].idxmax()[\"val_acc\"]\n",
    "df_best = df_avg.iloc[df_best_ids]"
   ]
  },
  {
   "cell_type": "code",
   "execution_count": null,
   "id": "32d27e70",
   "metadata": {},
   "outputs": [],
   "source": [
    "df_best.to_csv(\"../reports/probing_roberta_base.csv\", index=False)"
   ]
  },
  {
   "cell_type": "code",
   "execution_count": null,
   "id": "98d650f1",
   "metadata": {},
   "outputs": [],
   "source": []
  }
 ],
 "metadata": {
  "kernelspec": {
   "display_name": "Python 3",
   "language": "python",
   "name": "python3"
  },
  "language_info": {
   "codemirror_mode": {
    "name": "ipython",
    "version": 3
   },
   "file_extension": ".py",
   "mimetype": "text/x-python",
   "name": "python",
   "nbconvert_exporter": "python",
   "pygments_lexer": "ipython3",
   "version": "3.7.7"
  }
 },
 "nbformat": 4,
 "nbformat_minor": 5
}
