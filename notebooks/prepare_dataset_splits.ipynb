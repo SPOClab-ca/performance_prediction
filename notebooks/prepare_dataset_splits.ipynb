{
 "cells": [
  {
   "cell_type": "markdown",
   "id": "382113ed-c023-4172-a7b1-90e7f040d2cd",
   "metadata": {},
   "source": [
    "# Split datasets"
   ]
  },
  {
   "cell_type": "code",
   "execution_count": 5,
   "id": "ab9f3f06-a557-4b66-98ee-02847204377e",
   "metadata": {},
   "outputs": [],
   "source": [
    "from datasets import load_dataset, concatenate_datasets\n",
    "import numpy as np\n",
    "from pathlib import Path"
   ]
  },
  {
   "cell_type": "code",
   "execution_count": 2,
   "id": "d6462328-8db4-4dd2-958d-18ffe4677a55",
   "metadata": {},
   "outputs": [],
   "source": [
    "def add_lex_overlap(examples, field1=\"premise\", field2=\"hypothesis\"):\n",
    "    overlap_scores = []\n",
    "    ps = examples[field1]\n",
    "    hs = examples[field2]\n",
    "    for p, h in zip(ps, hs):\n",
    "        plist = p.split()\n",
    "        hlist = h.split()\n",
    "        Np, Nh = len(plist), len(hlist)\n",
    "        N_overlap = 0\n",
    "        for pw in plist:\n",
    "            if pw in hlist:\n",
    "                N_overlap += 1\n",
    "        overlap_scores.append(N_overlap * 2 / (Np + Nh))\n",
    "    examples[\"overlap_score\"] = overlap_scores\n",
    "    return examples"
   ]
  },
  {
   "cell_type": "code",
   "execution_count": 3,
   "id": "8a56364c-d998-43d1-866d-4b0d8c747081",
   "metadata": {},
   "outputs": [
    {
     "data": {
      "application/vnd.jupyter.widget-view+json": {
       "model_id": "37040fee3fdd4cac93ebcd787331d025",
       "version_major": 2,
       "version_minor": 0
      },
      "text/plain": [
       "Downloading:   0%|          | 0.00/7.78k [00:00<?, ?B/s]"
      ]
     },
     "metadata": {},
     "output_type": "display_data"
    },
    {
     "data": {
      "application/vnd.jupyter.widget-view+json": {
       "model_id": "65044beb615f4dfc82e7437683f6f04e",
       "version_major": 2,
       "version_minor": 0
      },
      "text/plain": [
       "Downloading:   0%|          | 0.00/4.47k [00:00<?, ?B/s]"
      ]
     },
     "metadata": {},
     "output_type": "display_data"
    },
    {
     "name": "stdout",
     "output_type": "stream",
     "text": [
      "Downloading and preparing dataset glue/mnli (download: 298.29 MiB, generated: 78.65 MiB, post-processed: Unknown size, total: 376.95 MiB) to /home/zining/.cache/huggingface/datasets/glue/mnli/1.0.0/dacbe3125aa31d7f70367a07a8a9e72a5a0bfeb5fc42e75c9db75b96da6053ad...\n"
     ]
    },
    {
     "data": {
      "application/vnd.jupyter.widget-view+json": {
       "model_id": "b62ab4fdc249458f981976e6db1053d9",
       "version_major": 2,
       "version_minor": 0
      },
      "text/plain": [
       "0 examples [00:00, ? examples/s]"
      ]
     },
     "metadata": {},
     "output_type": "display_data"
    },
    {
     "data": {
      "application/vnd.jupyter.widget-view+json": {
       "model_id": "a22886eaa7c14ba7b898277acff6c3fc",
       "version_major": 2,
       "version_minor": 0
      },
      "text/plain": [
       "0 examples [00:00, ? examples/s]"
      ]
     },
     "metadata": {},
     "output_type": "display_data"
    },
    {
     "data": {
      "application/vnd.jupyter.widget-view+json": {
       "model_id": "496178292f0745faa43bb8ee374956b5",
       "version_major": 2,
       "version_minor": 0
      },
      "text/plain": [
       "0 examples [00:00, ? examples/s]"
      ]
     },
     "metadata": {},
     "output_type": "display_data"
    },
    {
     "data": {
      "application/vnd.jupyter.widget-view+json": {
       "model_id": "7b27233f3f0d4e85b2decf8ee4f8db08",
       "version_major": 2,
       "version_minor": 0
      },
      "text/plain": [
       "0 examples [00:00, ? examples/s]"
      ]
     },
     "metadata": {},
     "output_type": "display_data"
    },
    {
     "data": {
      "application/vnd.jupyter.widget-view+json": {
       "model_id": "da7deaf1559a48c8a1b1cdd90cf1ff4a",
       "version_major": 2,
       "version_minor": 0
      },
      "text/plain": [
       "0 examples [00:00, ? examples/s]"
      ]
     },
     "metadata": {},
     "output_type": "display_data"
    },
    {
     "name": "stdout",
     "output_type": "stream",
     "text": [
      "Dataset glue downloaded and prepared to /home/zining/.cache/huggingface/datasets/glue/mnli/1.0.0/dacbe3125aa31d7f70367a07a8a9e72a5a0bfeb5fc42e75c9db75b96da6053ad. Subsequent calls will reuse this data.\n"
     ]
    },
    {
     "data": {
      "application/vnd.jupyter.widget-view+json": {
       "model_id": "c6a4ef8fbac445a4b40e5b8e023581f7",
       "version_major": 2,
       "version_minor": 0
      },
      "text/plain": [
       "  0%|          | 0/5 [00:00<?, ?it/s]"
      ]
     },
     "metadata": {},
     "output_type": "display_data"
    },
    {
     "data": {
      "application/vnd.jupyter.widget-view+json": {
       "model_id": "c0329b6f942847d48527ae9904e51426",
       "version_major": 2,
       "version_minor": 0
      },
      "text/plain": [
       "  0%|          | 0/393 [00:00<?, ?ba/s]"
      ]
     },
     "metadata": {},
     "output_type": "display_data"
    },
    {
     "data": {
      "application/vnd.jupyter.widget-view+json": {
       "model_id": "2ca77b3d0ba749e785c7c82ede8a5d4d",
       "version_major": 2,
       "version_minor": 0
      },
      "text/plain": [
       "  0%|          | 0/10 [00:00<?, ?ba/s]"
      ]
     },
     "metadata": {},
     "output_type": "display_data"
    },
    {
     "data": {
      "application/vnd.jupyter.widget-view+json": {
       "model_id": "cf0f12862d4e4e489530eebe83e37e44",
       "version_major": 2,
       "version_minor": 0
      },
      "text/plain": [
       "  0%|          | 0/10 [00:00<?, ?ba/s]"
      ]
     },
     "metadata": {},
     "output_type": "display_data"
    },
    {
     "data": {
      "application/vnd.jupyter.widget-view+json": {
       "model_id": "f4640c9461e2464cb3dbae3b3ea50a29",
       "version_major": 2,
       "version_minor": 0
      },
      "text/plain": [
       "  0%|          | 0/10 [00:00<?, ?ba/s]"
      ]
     },
     "metadata": {},
     "output_type": "display_data"
    },
    {
     "data": {
      "application/vnd.jupyter.widget-view+json": {
       "model_id": "ec0badd0552b4e178400c884095ab8d9",
       "version_major": 2,
       "version_minor": 0
      },
      "text/plain": [
       "  0%|          | 0/10 [00:00<?, ?ba/s]"
      ]
     },
     "metadata": {},
     "output_type": "display_data"
    }
   ],
   "source": [
    "ds = load_dataset(\"glue\", \"mnli\")\n",
    "ds = ds.map(\n",
    "    lambda exs: add_lex_overlap(exs, \"premise\", \"hypothesis\"), \n",
    "    batched=True)\n",
    "ds[\"concat\"] = concatenate_datasets([ds[\"train\"], ds[\"validation_matched\"], ds[\"validation_mismatched\"]]).sort(column=\"overlap_score\")"
   ]
  },
  {
   "cell_type": "code",
   "execution_count": 4,
   "id": "9ab46435-608c-488e-8391-eb4291f1eec2",
   "metadata": {},
   "outputs": [
    {
     "data": {
      "application/vnd.jupyter.widget-view+json": {
       "model_id": "a8a6ef4aa6224ba39a29aa31c5b67955",
       "version_major": 2,
       "version_minor": 0
      },
      "text/plain": [
       "Creating CSV from Arrow format:   0%|          | 0/42 [00:00<?, ?ba/s]"
      ]
     },
     "metadata": {},
     "output_type": "display_data"
    },
    {
     "data": {
      "text/plain": [
       "81441112"
      ]
     },
     "execution_count": 4,
     "metadata": {},
     "output_type": "execute_result"
    }
   ],
   "source": [
    "pth = Path(\"../data/mnli_processed\")\n",
    "if not pth.exists():\n",
    "    pth.mkdir()\n",
    "ds[\"concat\"].to_csv(\"../data/mnli_processed/sort_by_overlap.csv\", index=False)\n",
    "# The way huggingface dataset to_csv works is: you save the csv to a directory\n",
    "# Then you load from that directory. This sort_by_overlap.csv is *automatically*\n",
    "# determined as \"train\", so you can query the split=\"train[:80%]\" to get the \n",
    "# first 80% of the dataset."
   ]
  },
  {
   "cell_type": "code",
   "execution_count": 11,
   "id": "d8e5749d",
   "metadata": {},
   "outputs": [
    {
     "data": {
      "text/plain": [
       "5"
      ]
     },
     "execution_count": 11,
     "metadata": {},
     "output_type": "execute_result"
    }
   ],
   "source": [
    "D = {\"a\": 2, \"b\": 3}\n",
    "np.sum(list(D.values()))"
   ]
  },
  {
   "cell_type": "code",
   "execution_count": 16,
   "id": "dace9588",
   "metadata": {},
   "outputs": [],
   "source": [
    "def print_ds_label_constituency(ds):\n",
    "    all_labels = ds[\"label\"]\n",
    "    labels_count = {}\n",
    "    for y in all_labels:\n",
    "        if y in labels_count:\n",
    "            labels_count[y] += 1 \n",
    "        else:\n",
    "            labels_count[y] = 1\n",
    "    total = len(all_labels)\n",
    "    print(\"Total: {}\".format(total))\n",
    "    for y in labels_count:\n",
    "        print(\"    Label={}. Portion={:.4f}%\".format(y, labels_count[y] / total * 100))\n",
    "    return labels_count "
   ]
  },
  {
   "cell_type": "code",
   "execution_count": 14,
   "id": "1d7a1569-d902-4061-a145-ea019c692a0f",
   "metadata": {},
   "outputs": [
    {
     "name": "stderr",
     "output_type": "stream",
     "text": [
      "Using custom data configuration mnli_processed-86c529b39c9441f5\n",
      "Reusing dataset csv (/home/zining/.cache/huggingface/datasets/csv/mnli_processed-86c529b39c9441f5/0.0.0/bf68a4c4aefa545d0712b2fcbb1b327f905bbe2f6425fbc5e8c25234acb9e14a)\n"
     ]
    },
    {
     "data": {
      "application/vnd.jupyter.widget-view+json": {
       "model_id": "80081531245445a894412565d376c96b",
       "version_major": 2,
       "version_minor": 0
      },
      "text/plain": [
       "  0%|          | 0/1 [00:00<?, ?it/s]"
      ]
     },
     "metadata": {},
     "output_type": "display_data"
    },
    {
     "data": {
      "text/plain": [
       "DatasetDict({\n",
       "    train: Dataset({\n",
       "        features: ['hypothesis', 'idx', 'label', 'overlap_score', 'premise'],\n",
       "        num_rows: 412349\n",
       "    })\n",
       "})"
      ]
     },
     "execution_count": 14,
     "metadata": {},
     "output_type": "execute_result"
    }
   ],
   "source": [
    "ds_full = load_dataset(\"../data/mnli_processed\")\n",
    "ds_full"
   ]
  },
  {
   "cell_type": "code",
   "execution_count": 17,
   "id": "7f54987e-dde0-4c80-90ce-db9d5d0fc796",
   "metadata": {},
   "outputs": [
    {
     "name": "stderr",
     "output_type": "stream",
     "text": [
      "Using custom data configuration mnli_processed-86c529b39c9441f5\n",
      "Reusing dataset csv (/home/zining/.cache/huggingface/datasets/csv/mnli_processed-86c529b39c9441f5/0.0.0/bf68a4c4aefa545d0712b2fcbb1b327f905bbe2f6425fbc5e8c25234acb9e14a)\n"
     ]
    },
    {
     "name": "stdout",
     "output_type": "stream",
     "text": [
      "Total: 329879\n",
      "    Label=2. Portion=34.9283%\n",
      "    Label=0. Portion=28.7145%\n",
      "    Label=1. Portion=36.3573%\n"
     ]
    },
    {
     "data": {
      "text/plain": [
       "Dataset({\n",
       "    features: ['hypothesis', 'idx', 'label', 'overlap_score', 'premise'],\n",
       "    num_rows: 329879\n",
       "})"
      ]
     },
     "execution_count": 17,
     "metadata": {},
     "output_type": "execute_result"
    }
   ],
   "source": [
    "ds_easy = load_dataset(\"../data/mnli_processed\", split=\"train[:80%]\")\n",
    "print_ds_label_constituency(ds_easy)\n",
    "ds_easy"
   ]
  },
  {
   "cell_type": "code",
   "execution_count": 18,
   "id": "4baaaee9-cf2e-4959-89fa-3144a62576c9",
   "metadata": {},
   "outputs": [
    {
     "name": "stderr",
     "output_type": "stream",
     "text": [
      "Using custom data configuration mnli_processed-86c529b39c9441f5\n",
      "Reusing dataset csv (/home/zining/.cache/huggingface/datasets/csv/mnli_processed-86c529b39c9441f5/0.0.0/bf68a4c4aefa545d0712b2fcbb1b327f905bbe2f6425fbc5e8c25234acb9e14a)\n"
     ]
    },
    {
     "name": "stdout",
     "output_type": "stream",
     "text": [
      "Total: 82470\n",
      "    Label=0. Portion=52.2833%\n",
      "    Label=1. Portion=20.8767%\n",
      "    Label=2. Portion=26.8401%\n"
     ]
    },
    {
     "data": {
      "text/plain": [
       "Dataset({\n",
       "    features: ['hypothesis', 'idx', 'label', 'overlap_score', 'premise'],\n",
       "    num_rows: 82470\n",
       "})"
      ]
     },
     "execution_count": 18,
     "metadata": {},
     "output_type": "execute_result"
    }
   ],
   "source": [
    "ds_hard = load_dataset(\"../data/mnli_processed\", split=\"train[80%:]\")\n",
    "print_ds_label_constituency(ds_hard)\n",
    "ds_hard"
   ]
  },
  {
   "cell_type": "markdown",
   "id": "335c7e6f-1ad1-449f-9330-9d0dca87da2c",
   "metadata": {},
   "source": [
    "## Repeat on other datasets"
   ]
  },
  {
   "cell_type": "code",
   "execution_count": 19,
   "id": "dcf06eb3-4805-40a1-aa31-59d2e98058c7",
   "metadata": {},
   "outputs": [
    {
     "name": "stdout",
     "output_type": "stream",
     "text": [
      "Downloading and preparing dataset glue/qqp (download: 39.76 MiB, generated: 106.55 MiB, post-processed: Unknown size, total: 146.32 MiB) to /home/zining/.cache/huggingface/datasets/glue/qqp/1.0.0/dacbe3125aa31d7f70367a07a8a9e72a5a0bfeb5fc42e75c9db75b96da6053ad...\n"
     ]
    },
    {
     "data": {
      "application/vnd.jupyter.widget-view+json": {
       "model_id": "043c0c22a1624462a95d47479630d94f",
       "version_major": 2,
       "version_minor": 0
      },
      "text/plain": [
       "Downloading:   0%|          | 0.00/41.7M [00:00<?, ?B/s]"
      ]
     },
     "metadata": {},
     "output_type": "display_data"
    },
    {
     "data": {
      "application/vnd.jupyter.widget-view+json": {
       "model_id": "1f63d38ea28547f1b0c2f8269023e785",
       "version_major": 2,
       "version_minor": 0
      },
      "text/plain": [
       "0 examples [00:00, ? examples/s]"
      ]
     },
     "metadata": {},
     "output_type": "display_data"
    },
    {
     "data": {
      "application/vnd.jupyter.widget-view+json": {
       "model_id": "95ae3e7ce3ce4e328e50cf263555b1e8",
       "version_major": 2,
       "version_minor": 0
      },
      "text/plain": [
       "0 examples [00:00, ? examples/s]"
      ]
     },
     "metadata": {},
     "output_type": "display_data"
    },
    {
     "data": {
      "application/vnd.jupyter.widget-view+json": {
       "model_id": "d111a553c7654135bb54ad148e54aebb",
       "version_major": 2,
       "version_minor": 0
      },
      "text/plain": [
       "0 examples [00:00, ? examples/s]"
      ]
     },
     "metadata": {},
     "output_type": "display_data"
    },
    {
     "name": "stdout",
     "output_type": "stream",
     "text": [
      "Dataset glue downloaded and prepared to /home/zining/.cache/huggingface/datasets/glue/qqp/1.0.0/dacbe3125aa31d7f70367a07a8a9e72a5a0bfeb5fc42e75c9db75b96da6053ad. Subsequent calls will reuse this data.\n"
     ]
    },
    {
     "data": {
      "application/vnd.jupyter.widget-view+json": {
       "model_id": "7ecd3d51583b48729a0d0e2b77c51655",
       "version_major": 2,
       "version_minor": 0
      },
      "text/plain": [
       "  0%|          | 0/3 [00:00<?, ?it/s]"
      ]
     },
     "metadata": {},
     "output_type": "display_data"
    },
    {
     "data": {
      "application/vnd.jupyter.widget-view+json": {
       "model_id": "4d7c7ff8552a44318485ecc78ed99ae0",
       "version_major": 2,
       "version_minor": 0
      },
      "text/plain": [
       "  0%|          | 0/364 [00:00<?, ?ba/s]"
      ]
     },
     "metadata": {},
     "output_type": "display_data"
    },
    {
     "data": {
      "application/vnd.jupyter.widget-view+json": {
       "model_id": "d9ba953b840a42aab00330697c09b85e",
       "version_major": 2,
       "version_minor": 0
      },
      "text/plain": [
       "  0%|          | 0/41 [00:00<?, ?ba/s]"
      ]
     },
     "metadata": {},
     "output_type": "display_data"
    },
    {
     "data": {
      "application/vnd.jupyter.widget-view+json": {
       "model_id": "0b57596f982b411680dff0562a486d42",
       "version_major": 2,
       "version_minor": 0
      },
      "text/plain": [
       "  0%|          | 0/391 [00:00<?, ?ba/s]"
      ]
     },
     "metadata": {},
     "output_type": "display_data"
    },
    {
     "name": "stdout",
     "output_type": "stream",
     "text": [
      "Total: 404276\n",
      "    Label=0. Portion=63.0789%\n",
      "    Label=1. Portion=36.9211%\n"
     ]
    },
    {
     "data": {
      "application/vnd.jupyter.widget-view+json": {
       "model_id": "86de87490da4486f9dd738e578171f57",
       "version_major": 2,
       "version_minor": 0
      },
      "text/plain": [
       "Creating CSV from Arrow format:   0%|          | 0/41 [00:00<?, ?ba/s]"
      ]
     },
     "metadata": {},
     "output_type": "display_data"
    },
    {
     "data": {
      "text/plain": [
       "59105841"
      ]
     },
     "execution_count": 19,
     "metadata": {},
     "output_type": "execute_result"
    }
   ],
   "source": [
    "ds = load_dataset(\"glue\", \"qqp\")\n",
    "ds = ds.map(\n",
    "    lambda exs: add_lex_overlap(exs, \"question1\", \"question2\"), \n",
    "    batched=True)\n",
    "ds[\"concat\"] = concatenate_datasets([ds[\"train\"], ds[\"validation\"]])\\\n",
    "    .sort(column=\"overlap_score\")\n",
    "pth = Path(\"../data/qqp_processed\")\n",
    "if not pth.exists():\n",
    "    pth.mkdir()\n",
    "print_ds_label_constituency(ds[\"concat\"])\n",
    "ds[\"concat\"].to_csv(\"../data/qqp_processed/sort_by_overlap.csv\", index=False)"
   ]
  },
  {
   "cell_type": "code",
   "execution_count": 21,
   "id": "01dd9190",
   "metadata": {},
   "outputs": [
    {
     "name": "stderr",
     "output_type": "stream",
     "text": [
      "Using custom data configuration qqp_processed-a68591ebafa4c184\n",
      "Reusing dataset csv (/home/zining/.cache/huggingface/datasets/csv/qqp_processed-a68591ebafa4c184/0.0.0/bf68a4c4aefa545d0712b2fcbb1b327f905bbe2f6425fbc5e8c25234acb9e14a)\n",
      "Using custom data configuration qqp_processed-a68591ebafa4c184\n",
      "Reusing dataset csv (/home/zining/.cache/huggingface/datasets/csv/qqp_processed-a68591ebafa4c184/0.0.0/bf68a4c4aefa545d0712b2fcbb1b327f905bbe2f6425fbc5e8c25234acb9e14a)\n"
     ]
    },
    {
     "name": "stdout",
     "output_type": "stream",
     "text": [
      "Total: 323421\n",
      "    Label=0. Portion=67.0386%\n",
      "    Label=1. Portion=32.9614%\n",
      "Total: 80855\n",
      "    Label=1. Portion=52.7599%\n",
      "    Label=0. Portion=47.2401%\n"
     ]
    },
    {
     "data": {
      "text/plain": [
       "{1: 42659, 0: 38196}"
      ]
     },
     "execution_count": 21,
     "metadata": {},
     "output_type": "execute_result"
    }
   ],
   "source": [
    "ds_train = load_dataset(\"../data/qqp_processed\", split=\"train[:80%]\")\n",
    "print_ds_label_constituency(ds_train)\n",
    "ds_eval = load_dataset(\"../data/qqp_processed\", split=\"train[80%:]\")\n",
    "print_ds_label_constituency(ds_eval)"
   ]
  },
  {
   "cell_type": "code",
   "execution_count": 22,
   "id": "d5ca1d6c-2ff1-4090-8c5e-e77bacbf677b",
   "metadata": {},
   "outputs": [
    {
     "name": "stdout",
     "output_type": "stream",
     "text": [
      "Downloading and preparing dataset glue/qnli (download: 10.14 MiB, generated: 27.11 MiB, post-processed: Unknown size, total: 37.24 MiB) to /home/zining/.cache/huggingface/datasets/glue/qnli/1.0.0/dacbe3125aa31d7f70367a07a8a9e72a5a0bfeb5fc42e75c9db75b96da6053ad...\n"
     ]
    },
    {
     "data": {
      "application/vnd.jupyter.widget-view+json": {
       "model_id": "26b988875b8344ffa009f5b2abfb9963",
       "version_major": 2,
       "version_minor": 0
      },
      "text/plain": [
       "Downloading:   0%|          | 0.00/10.6M [00:00<?, ?B/s]"
      ]
     },
     "metadata": {},
     "output_type": "display_data"
    },
    {
     "data": {
      "application/vnd.jupyter.widget-view+json": {
       "model_id": "f0676448ba004785b0999c3b540296c1",
       "version_major": 2,
       "version_minor": 0
      },
      "text/plain": [
       "0 examples [00:00, ? examples/s]"
      ]
     },
     "metadata": {},
     "output_type": "display_data"
    },
    {
     "data": {
      "application/vnd.jupyter.widget-view+json": {
       "model_id": "8731b394fe8e40d58b1b815d4b19bb8e",
       "version_major": 2,
       "version_minor": 0
      },
      "text/plain": [
       "0 examples [00:00, ? examples/s]"
      ]
     },
     "metadata": {},
     "output_type": "display_data"
    },
    {
     "data": {
      "application/vnd.jupyter.widget-view+json": {
       "model_id": "54efd4490fed49f5b5122620e1f0590f",
       "version_major": 2,
       "version_minor": 0
      },
      "text/plain": [
       "0 examples [00:00, ? examples/s]"
      ]
     },
     "metadata": {},
     "output_type": "display_data"
    },
    {
     "name": "stdout",
     "output_type": "stream",
     "text": [
      "Dataset glue downloaded and prepared to /home/zining/.cache/huggingface/datasets/glue/qnli/1.0.0/dacbe3125aa31d7f70367a07a8a9e72a5a0bfeb5fc42e75c9db75b96da6053ad. Subsequent calls will reuse this data.\n"
     ]
    },
    {
     "data": {
      "application/vnd.jupyter.widget-view+json": {
       "model_id": "f36a1884c6f44124a115fe16a571fc79",
       "version_major": 2,
       "version_minor": 0
      },
      "text/plain": [
       "  0%|          | 0/3 [00:00<?, ?it/s]"
      ]
     },
     "metadata": {},
     "output_type": "display_data"
    },
    {
     "data": {
      "application/vnd.jupyter.widget-view+json": {
       "model_id": "537c7cdf6a16411b8ce75ddf2dc97816",
       "version_major": 2,
       "version_minor": 0
      },
      "text/plain": [
       "  0%|          | 0/105 [00:00<?, ?ba/s]"
      ]
     },
     "metadata": {},
     "output_type": "display_data"
    },
    {
     "data": {
      "application/vnd.jupyter.widget-view+json": {
       "model_id": "ad6a5a6b82a242dea4d261f86f314f13",
       "version_major": 2,
       "version_minor": 0
      },
      "text/plain": [
       "  0%|          | 0/6 [00:00<?, ?ba/s]"
      ]
     },
     "metadata": {},
     "output_type": "display_data"
    },
    {
     "data": {
      "application/vnd.jupyter.widget-view+json": {
       "model_id": "ef65214b55694797b4aa5850721acfbd",
       "version_major": 2,
       "version_minor": 0
      },
      "text/plain": [
       "  0%|          | 0/6 [00:00<?, ?ba/s]"
      ]
     },
     "metadata": {},
     "output_type": "display_data"
    },
    {
     "data": {
      "application/vnd.jupyter.widget-view+json": {
       "model_id": "4341ccc3707742759ce05056b8100c14",
       "version_major": 2,
       "version_minor": 0
      },
      "text/plain": [
       "Creating CSV from Arrow format:   0%|          | 0/12 [00:00<?, ?ba/s]"
      ]
     },
     "metadata": {},
     "output_type": "display_data"
    },
    {
     "data": {
      "text/plain": [
       "27872641"
      ]
     },
     "execution_count": 22,
     "metadata": {},
     "output_type": "execute_result"
    }
   ],
   "source": [
    "ds = load_dataset(\"glue\", \"qnli\")\n",
    "ds = ds.map(\n",
    "    lambda exs: add_lex_overlap(exs, \"question\", \"sentence\"), \n",
    "    batched=True)\n",
    "ds[\"concat\"] = concatenate_datasets([ds[\"train\"], ds[\"validation\"]])\\\n",
    "    .sort(column=\"overlap_score\")\n",
    "pth = Path(\"../data/qnli_processed\")\n",
    "if not pth.exists():\n",
    "    pth.mkdir()\n",
    "ds[\"concat\"].to_csv(\"../data/qnli_processed/sort_by_overlap.csv\", index=False)"
   ]
  },
  {
   "cell_type": "code",
   "execution_count": 23,
   "id": "6d81e4a1",
   "metadata": {},
   "outputs": [
    {
     "name": "stderr",
     "output_type": "stream",
     "text": [
      "Using custom data configuration qnli_processed-5a840d7b1c97368a\n"
     ]
    },
    {
     "name": "stdout",
     "output_type": "stream",
     "text": [
      "Downloading and preparing dataset csv/qnli_processed to /home/zining/.cache/huggingface/datasets/csv/qnli_processed-5a840d7b1c97368a/0.0.0/bf68a4c4aefa545d0712b2fcbb1b327f905bbe2f6425fbc5e8c25234acb9e14a...\n"
     ]
    },
    {
     "data": {
      "application/vnd.jupyter.widget-view+json": {
       "model_id": "f445ebbc49304907a9c7078ce7757420",
       "version_major": 2,
       "version_minor": 0
      },
      "text/plain": [
       "  0%|          | 0/1 [00:00<?, ?it/s]"
      ]
     },
     "metadata": {},
     "output_type": "display_data"
    },
    {
     "data": {
      "application/vnd.jupyter.widget-view+json": {
       "model_id": "ffbd10d5f294496db7e814673147abe5",
       "version_major": 2,
       "version_minor": 0
      },
      "text/plain": [
       "  0%|          | 0/1 [00:00<?, ?it/s]"
      ]
     },
     "metadata": {},
     "output_type": "display_data"
    },
    {
     "name": "stderr",
     "output_type": "stream",
     "text": [
      "Using custom data configuration qnli_processed-5a840d7b1c97368a\n"
     ]
    },
    {
     "name": "stdout",
     "output_type": "stream",
     "text": [
      "Dataset csv downloaded and prepared to /home/zining/.cache/huggingface/datasets/csv/qnli_processed-5a840d7b1c97368a/0.0.0/bf68a4c4aefa545d0712b2fcbb1b327f905bbe2f6425fbc5e8c25234acb9e14a. Subsequent calls will reuse this data.\n",
      "Total: 88165\n",
      "    Label=1. Portion=56.5928%\n",
      "    Label=0. Portion=43.4072%\n"
     ]
    },
    {
     "name": "stderr",
     "output_type": "stream",
     "text": [
      "Reusing dataset csv (/home/zining/.cache/huggingface/datasets/csv/qnli_processed-5a840d7b1c97368a/0.0.0/bf68a4c4aefa545d0712b2fcbb1b327f905bbe2f6425fbc5e8c25234acb9e14a)\n"
     ]
    },
    {
     "name": "stdout",
     "output_type": "stream",
     "text": [
      "Total: 22041\n",
      "    Label=1. Portion=23.7376%\n",
      "    Label=0. Portion=76.2624%\n"
     ]
    },
    {
     "data": {
      "text/plain": [
       "{1: 5232, 0: 16809}"
      ]
     },
     "execution_count": 23,
     "metadata": {},
     "output_type": "execute_result"
    }
   ],
   "source": [
    "ds_train = load_dataset(\"../data/qnli_processed\", split=\"train[:80%]\")\n",
    "print_ds_label_constituency(ds_train)\n",
    "ds_eval = load_dataset(\"../data/qnli_processed\", split=\"train[80%:]\")\n",
    "print_ds_label_constituency(ds_eval)"
   ]
  },
  {
   "cell_type": "code",
   "execution_count": 24,
   "id": "3857bc72-8c93-4ff5-8957-d6f135dc9f01",
   "metadata": {},
   "outputs": [
    {
     "name": "stdout",
     "output_type": "stream",
     "text": [
      "Downloading and preparing dataset glue/mrpc (download: 1.43 MiB, generated: 1.43 MiB, post-processed: Unknown size, total: 2.85 MiB) to /home/zining/.cache/huggingface/datasets/glue/mrpc/1.0.0/dacbe3125aa31d7f70367a07a8a9e72a5a0bfeb5fc42e75c9db75b96da6053ad...\n"
     ]
    },
    {
     "data": {
      "application/vnd.jupyter.widget-view+json": {
       "model_id": "2b3afea164b44fffaef29523d7875d76",
       "version_major": 2,
       "version_minor": 0
      },
      "text/plain": [
       "  0%|          | 0/3 [00:00<?, ?it/s]"
      ]
     },
     "metadata": {},
     "output_type": "display_data"
    },
    {
     "data": {
      "application/vnd.jupyter.widget-view+json": {
       "model_id": "79641bfee9964fff91d400b7d811ff8c",
       "version_major": 2,
       "version_minor": 0
      },
      "text/plain": [
       "Downloading: 0.00B [00:00, ?B/s]"
      ]
     },
     "metadata": {},
     "output_type": "display_data"
    },
    {
     "data": {
      "application/vnd.jupyter.widget-view+json": {
       "model_id": "c6a1f244977a4b02a85d0e738775252d",
       "version_major": 2,
       "version_minor": 0
      },
      "text/plain": [
       "Downloading: 0.00B [00:00, ?B/s]"
      ]
     },
     "metadata": {},
     "output_type": "display_data"
    },
    {
     "data": {
      "application/vnd.jupyter.widget-view+json": {
       "model_id": "677d0c9b2a2846feaa902be72bb5f3d0",
       "version_major": 2,
       "version_minor": 0
      },
      "text/plain": [
       "Downloading: 0.00B [00:00, ?B/s]"
      ]
     },
     "metadata": {},
     "output_type": "display_data"
    },
    {
     "data": {
      "application/vnd.jupyter.widget-view+json": {
       "model_id": "50b4758023d94e609950ca6cdf58460f",
       "version_major": 2,
       "version_minor": 0
      },
      "text/plain": [
       "0 examples [00:00, ? examples/s]"
      ]
     },
     "metadata": {},
     "output_type": "display_data"
    },
    {
     "data": {
      "application/vnd.jupyter.widget-view+json": {
       "model_id": "e73dc449b94d401a8c58f0adfa34b0f0",
       "version_major": 2,
       "version_minor": 0
      },
      "text/plain": [
       "0 examples [00:00, ? examples/s]"
      ]
     },
     "metadata": {},
     "output_type": "display_data"
    },
    {
     "data": {
      "application/vnd.jupyter.widget-view+json": {
       "model_id": "b4bfba5bd0d94958ae87b5b137998b4c",
       "version_major": 2,
       "version_minor": 0
      },
      "text/plain": [
       "0 examples [00:00, ? examples/s]"
      ]
     },
     "metadata": {},
     "output_type": "display_data"
    },
    {
     "name": "stdout",
     "output_type": "stream",
     "text": [
      "Dataset glue downloaded and prepared to /home/zining/.cache/huggingface/datasets/glue/mrpc/1.0.0/dacbe3125aa31d7f70367a07a8a9e72a5a0bfeb5fc42e75c9db75b96da6053ad. Subsequent calls will reuse this data.\n"
     ]
    },
    {
     "data": {
      "application/vnd.jupyter.widget-view+json": {
       "model_id": "61eb900d483b4906b62317cce799e563",
       "version_major": 2,
       "version_minor": 0
      },
      "text/plain": [
       "  0%|          | 0/3 [00:00<?, ?it/s]"
      ]
     },
     "metadata": {},
     "output_type": "display_data"
    },
    {
     "data": {
      "application/vnd.jupyter.widget-view+json": {
       "model_id": "9d027d31fe37473a9d07066c2dfdb310",
       "version_major": 2,
       "version_minor": 0
      },
      "text/plain": [
       "  0%|          | 0/4 [00:00<?, ?ba/s]"
      ]
     },
     "metadata": {},
     "output_type": "display_data"
    },
    {
     "data": {
      "application/vnd.jupyter.widget-view+json": {
       "model_id": "d71459fb0c924174b71aa9c7d9638ee7",
       "version_major": 2,
       "version_minor": 0
      },
      "text/plain": [
       "  0%|          | 0/1 [00:00<?, ?ba/s]"
      ]
     },
     "metadata": {},
     "output_type": "display_data"
    },
    {
     "data": {
      "application/vnd.jupyter.widget-view+json": {
       "model_id": "2bc60df3efc94a149ac23eeb94135dfb",
       "version_major": 2,
       "version_minor": 0
      },
      "text/plain": [
       "  0%|          | 0/2 [00:00<?, ?ba/s]"
      ]
     },
     "metadata": {},
     "output_type": "display_data"
    },
    {
     "data": {
      "application/vnd.jupyter.widget-view+json": {
       "model_id": "161ea1df5ee14b3fb36ad212a5b4b3c4",
       "version_major": 2,
       "version_minor": 0
      },
      "text/plain": [
       "Creating CSV from Arrow format:   0%|          | 0/1 [00:00<?, ?ba/s]"
      ]
     },
     "metadata": {},
     "output_type": "display_data"
    },
    {
     "name": "stderr",
     "output_type": "stream",
     "text": [
      "Using custom data configuration mrpc_processed-e7409f135deff7cb\n"
     ]
    },
    {
     "name": "stdout",
     "output_type": "stream",
     "text": [
      "Downloading and preparing dataset csv/mrpc_processed to /home/zining/.cache/huggingface/datasets/csv/mrpc_processed-e7409f135deff7cb/0.0.0/bf68a4c4aefa545d0712b2fcbb1b327f905bbe2f6425fbc5e8c25234acb9e14a...\n"
     ]
    },
    {
     "data": {
      "application/vnd.jupyter.widget-view+json": {
       "model_id": "7c03b18df57c463b987380c69ce29a58",
       "version_major": 2,
       "version_minor": 0
      },
      "text/plain": [
       "  0%|          | 0/1 [00:00<?, ?it/s]"
      ]
     },
     "metadata": {},
     "output_type": "display_data"
    },
    {
     "data": {
      "application/vnd.jupyter.widget-view+json": {
       "model_id": "463fae68a6b44ebabffebf65e3f453f3",
       "version_major": 2,
       "version_minor": 0
      },
      "text/plain": [
       "  0%|          | 0/1 [00:00<?, ?it/s]"
      ]
     },
     "metadata": {},
     "output_type": "display_data"
    },
    {
     "name": "stderr",
     "output_type": "stream",
     "text": [
      "Using custom data configuration mrpc_processed-e7409f135deff7cb\n",
      "Reusing dataset csv (/home/zining/.cache/huggingface/datasets/csv/mrpc_processed-e7409f135deff7cb/0.0.0/bf68a4c4aefa545d0712b2fcbb1b327f905bbe2f6425fbc5e8c25234acb9e14a)\n"
     ]
    },
    {
     "name": "stdout",
     "output_type": "stream",
     "text": [
      "Dataset csv downloaded and prepared to /home/zining/.cache/huggingface/datasets/csv/mrpc_processed-e7409f135deff7cb/0.0.0/bf68a4c4aefa545d0712b2fcbb1b327f905bbe2f6425fbc5e8c25234acb9e14a. Subsequent calls will reuse this data.\n",
      "Total: 3261\n",
      "    Label=0. Portion=38.4851%\n",
      "    Label=1. Portion=61.5149%\n",
      "Total: 815\n",
      "    Label=1. Portion=91.6564%\n",
      "    Label=0. Portion=8.3436%\n",
      "Downloading and preparing dataset glue/rte (download: 680.81 KiB, generated: 1.83 MiB, post-processed: Unknown size, total: 2.49 MiB) to /home/zining/.cache/huggingface/datasets/glue/rte/1.0.0/dacbe3125aa31d7f70367a07a8a9e72a5a0bfeb5fc42e75c9db75b96da6053ad...\n"
     ]
    },
    {
     "data": {
      "application/vnd.jupyter.widget-view+json": {
       "model_id": "18540d1a42f84be48dac47a1ede66172",
       "version_major": 2,
       "version_minor": 0
      },
      "text/plain": [
       "Downloading:   0%|          | 0.00/697k [00:00<?, ?B/s]"
      ]
     },
     "metadata": {},
     "output_type": "display_data"
    },
    {
     "data": {
      "application/vnd.jupyter.widget-view+json": {
       "model_id": "911223757b1e4abfa2a0410b6e90f134",
       "version_major": 2,
       "version_minor": 0
      },
      "text/plain": [
       "0 examples [00:00, ? examples/s]"
      ]
     },
     "metadata": {},
     "output_type": "display_data"
    },
    {
     "data": {
      "application/vnd.jupyter.widget-view+json": {
       "model_id": "9f36213dbd06423ebc4de71aa7b6e837",
       "version_major": 2,
       "version_minor": 0
      },
      "text/plain": [
       "0 examples [00:00, ? examples/s]"
      ]
     },
     "metadata": {},
     "output_type": "display_data"
    },
    {
     "data": {
      "application/vnd.jupyter.widget-view+json": {
       "model_id": "82de8a7d943c4570b89e562bdaeeac64",
       "version_major": 2,
       "version_minor": 0
      },
      "text/plain": [
       "0 examples [00:00, ? examples/s]"
      ]
     },
     "metadata": {},
     "output_type": "display_data"
    },
    {
     "name": "stdout",
     "output_type": "stream",
     "text": [
      "Dataset glue downloaded and prepared to /home/zining/.cache/huggingface/datasets/glue/rte/1.0.0/dacbe3125aa31d7f70367a07a8a9e72a5a0bfeb5fc42e75c9db75b96da6053ad. Subsequent calls will reuse this data.\n"
     ]
    },
    {
     "data": {
      "application/vnd.jupyter.widget-view+json": {
       "model_id": "d65de035a13c4f69a72d3bc56172fb34",
       "version_major": 2,
       "version_minor": 0
      },
      "text/plain": [
       "  0%|          | 0/3 [00:00<?, ?it/s]"
      ]
     },
     "metadata": {},
     "output_type": "display_data"
    },
    {
     "data": {
      "application/vnd.jupyter.widget-view+json": {
       "model_id": "99fd2455b0f747939d84e91099bfbb7f",
       "version_major": 2,
       "version_minor": 0
      },
      "text/plain": [
       "  0%|          | 0/3 [00:00<?, ?ba/s]"
      ]
     },
     "metadata": {},
     "output_type": "display_data"
    },
    {
     "data": {
      "application/vnd.jupyter.widget-view+json": {
       "model_id": "0ccf547dd4f9432692d8d75344809eb0",
       "version_major": 2,
       "version_minor": 0
      },
      "text/plain": [
       "  0%|          | 0/1 [00:00<?, ?ba/s]"
      ]
     },
     "metadata": {},
     "output_type": "display_data"
    },
    {
     "data": {
      "application/vnd.jupyter.widget-view+json": {
       "model_id": "1f781c3dfb854d119e7fbe22008d7b34",
       "version_major": 2,
       "version_minor": 0
      },
      "text/plain": [
       "  0%|          | 0/3 [00:00<?, ?ba/s]"
      ]
     },
     "metadata": {},
     "output_type": "display_data"
    },
    {
     "data": {
      "application/vnd.jupyter.widget-view+json": {
       "model_id": "2865979267f14690be799f5534d0dbf0",
       "version_major": 2,
       "version_minor": 0
      },
      "text/plain": [
       "Creating CSV from Arrow format:   0%|          | 0/1 [00:00<?, ?ba/s]"
      ]
     },
     "metadata": {},
     "output_type": "display_data"
    },
    {
     "name": "stderr",
     "output_type": "stream",
     "text": [
      "Using custom data configuration rte_processed-cd550f822dd10ccc\n"
     ]
    },
    {
     "name": "stdout",
     "output_type": "stream",
     "text": [
      "Downloading and preparing dataset csv/rte_processed to /home/zining/.cache/huggingface/datasets/csv/rte_processed-cd550f822dd10ccc/0.0.0/bf68a4c4aefa545d0712b2fcbb1b327f905bbe2f6425fbc5e8c25234acb9e14a...\n"
     ]
    },
    {
     "data": {
      "application/vnd.jupyter.widget-view+json": {
       "model_id": "a1d1052ec503486eaf7376f307570c96",
       "version_major": 2,
       "version_minor": 0
      },
      "text/plain": [
       "  0%|          | 0/1 [00:00<?, ?it/s]"
      ]
     },
     "metadata": {},
     "output_type": "display_data"
    },
    {
     "data": {
      "application/vnd.jupyter.widget-view+json": {
       "model_id": "2295d06ca8c240efa9a17656342d167f",
       "version_major": 2,
       "version_minor": 0
      },
      "text/plain": [
       "  0%|          | 0/1 [00:00<?, ?it/s]"
      ]
     },
     "metadata": {},
     "output_type": "display_data"
    },
    {
     "name": "stderr",
     "output_type": "stream",
     "text": [
      "Using custom data configuration rte_processed-cd550f822dd10ccc\n",
      "Reusing dataset csv (/home/zining/.cache/huggingface/datasets/csv/rte_processed-cd550f822dd10ccc/0.0.0/bf68a4c4aefa545d0712b2fcbb1b327f905bbe2f6425fbc5e8c25234acb9e14a)\n"
     ]
    },
    {
     "name": "stdout",
     "output_type": "stream",
     "text": [
      "Dataset csv downloaded and prepared to /home/zining/.cache/huggingface/datasets/csv/rte_processed-cd550f822dd10ccc/0.0.0/bf68a4c4aefa545d0712b2fcbb1b327f905bbe2f6425fbc5e8c25234acb9e14a. Subsequent calls will reuse this data.\n",
      "Total: 2214\n",
      "    Label=1. Portion=51.7615%\n",
      "    Label=0. Portion=48.2385%\n",
      "Total: 553\n",
      "    Label=1. Portion=40.8680%\n",
      "    Label=0. Portion=59.1320%\n",
      "Downloading and preparing dataset glue/stsb (download: 784.05 KiB, generated: 1.09 MiB, post-processed: Unknown size, total: 1.86 MiB) to /home/zining/.cache/huggingface/datasets/glue/stsb/1.0.0/dacbe3125aa31d7f70367a07a8a9e72a5a0bfeb5fc42e75c9db75b96da6053ad...\n"
     ]
    },
    {
     "data": {
      "application/vnd.jupyter.widget-view+json": {
       "model_id": "1bc6b87a3c574a15b4ffd751d821b37b",
       "version_major": 2,
       "version_minor": 0
      },
      "text/plain": [
       "Downloading:   0%|          | 0.00/803k [00:00<?, ?B/s]"
      ]
     },
     "metadata": {},
     "output_type": "display_data"
    },
    {
     "data": {
      "application/vnd.jupyter.widget-view+json": {
       "model_id": "962366d45baf48b2b887ebf2557c1164",
       "version_major": 2,
       "version_minor": 0
      },
      "text/plain": [
       "0 examples [00:00, ? examples/s]"
      ]
     },
     "metadata": {},
     "output_type": "display_data"
    },
    {
     "data": {
      "application/vnd.jupyter.widget-view+json": {
       "model_id": "f269f4a6956641b5bf9699b5775ad71d",
       "version_major": 2,
       "version_minor": 0
      },
      "text/plain": [
       "0 examples [00:00, ? examples/s]"
      ]
     },
     "metadata": {},
     "output_type": "display_data"
    },
    {
     "data": {
      "application/vnd.jupyter.widget-view+json": {
       "model_id": "0bb981b359d14d56900d7707791955e9",
       "version_major": 2,
       "version_minor": 0
      },
      "text/plain": [
       "0 examples [00:00, ? examples/s]"
      ]
     },
     "metadata": {},
     "output_type": "display_data"
    },
    {
     "name": "stdout",
     "output_type": "stream",
     "text": [
      "Dataset glue downloaded and prepared to /home/zining/.cache/huggingface/datasets/glue/stsb/1.0.0/dacbe3125aa31d7f70367a07a8a9e72a5a0bfeb5fc42e75c9db75b96da6053ad. Subsequent calls will reuse this data.\n"
     ]
    },
    {
     "data": {
      "application/vnd.jupyter.widget-view+json": {
       "model_id": "138a4fa9a51d4e61b350c78e64ee1b24",
       "version_major": 2,
       "version_minor": 0
      },
      "text/plain": [
       "  0%|          | 0/3 [00:00<?, ?it/s]"
      ]
     },
     "metadata": {},
     "output_type": "display_data"
    },
    {
     "data": {
      "application/vnd.jupyter.widget-view+json": {
       "model_id": "97b85f391bc74a0783f1e2d29846e285",
       "version_major": 2,
       "version_minor": 0
      },
      "text/plain": [
       "  0%|          | 0/6 [00:00<?, ?ba/s]"
      ]
     },
     "metadata": {},
     "output_type": "display_data"
    },
    {
     "data": {
      "application/vnd.jupyter.widget-view+json": {
       "model_id": "5bb1dc58b5064c878d3957d0504bd626",
       "version_major": 2,
       "version_minor": 0
      },
      "text/plain": [
       "  0%|          | 0/2 [00:00<?, ?ba/s]"
      ]
     },
     "metadata": {},
     "output_type": "display_data"
    },
    {
     "data": {
      "application/vnd.jupyter.widget-view+json": {
       "model_id": "e12bb6a8ad3f4fdd88a1043d908276d8",
       "version_major": 2,
       "version_minor": 0
      },
      "text/plain": [
       "  0%|          | 0/2 [00:00<?, ?ba/s]"
      ]
     },
     "metadata": {},
     "output_type": "display_data"
    },
    {
     "data": {
      "application/vnd.jupyter.widget-view+json": {
       "model_id": "2da9da3b0be34eed806c6b7a77a0c1a8",
       "version_major": 2,
       "version_minor": 0
      },
      "text/plain": [
       "Creating CSV from Arrow format:   0%|          | 0/1 [00:00<?, ?ba/s]"
      ]
     },
     "metadata": {},
     "output_type": "display_data"
    },
    {
     "name": "stderr",
     "output_type": "stream",
     "text": [
      "Using custom data configuration stsb_processed-a1ec77eecaa4ec3c\n"
     ]
    },
    {
     "name": "stdout",
     "output_type": "stream",
     "text": [
      "Downloading and preparing dataset csv/stsb_processed to /home/zining/.cache/huggingface/datasets/csv/stsb_processed-a1ec77eecaa4ec3c/0.0.0/bf68a4c4aefa545d0712b2fcbb1b327f905bbe2f6425fbc5e8c25234acb9e14a...\n"
     ]
    },
    {
     "data": {
      "application/vnd.jupyter.widget-view+json": {
       "model_id": "4beeea53e34c4641a03242a5d769064b",
       "version_major": 2,
       "version_minor": 0
      },
      "text/plain": [
       "  0%|          | 0/1 [00:00<?, ?it/s]"
      ]
     },
     "metadata": {},
     "output_type": "display_data"
    },
    {
     "data": {
      "application/vnd.jupyter.widget-view+json": {
       "model_id": "6a2165ac7b7c4c8199762619e2bc05d7",
       "version_major": 2,
       "version_minor": 0
      },
      "text/plain": [
       "  0%|          | 0/1 [00:00<?, ?it/s]"
      ]
     },
     "metadata": {},
     "output_type": "display_data"
    },
    {
     "name": "stderr",
     "output_type": "stream",
     "text": [
      "Using custom data configuration stsb_processed-a1ec77eecaa4ec3c\n",
      "Reusing dataset csv (/home/zining/.cache/huggingface/datasets/csv/stsb_processed-a1ec77eecaa4ec3c/0.0.0/bf68a4c4aefa545d0712b2fcbb1b327f905bbe2f6425fbc5e8c25234acb9e14a)\n"
     ]
    },
    {
     "name": "stdout",
     "output_type": "stream",
     "text": [
      "Dataset csv downloaded and prepared to /home/zining/.cache/huggingface/datasets/csv/stsb_processed-a1ec77eecaa4ec3c/0.0.0/bf68a4c4aefa545d0712b2fcbb1b327f905bbe2f6425fbc5e8c25234acb9e14a. Subsequent calls will reuse this data.\n",
      "Total: 5799\n",
      "    Label=0.2. Portion=1.7072%\n",
      "    Label=0.0. Portion=8.7084%\n",
      "    Label=3.2. Portion=4.3973%\n",
      "    Label=1.2. Portion=2.7419%\n",
      "    Label=0.6. Portion=2.6729%\n",
      "    Label=2.8. Portion=3.3282%\n",
      "    Label=1.0. Portion=4.1731%\n",
      "    Label=1.6. Portion=2.8971%\n",
      "    Label=1.8. Portion=3.0005%\n",
      "    Label=0.4. Portion=3.1902%\n",
      "    Label=0.8. Portion=3.1040%\n",
      "    Label=3.0. Portion=5.5872%\n",
      "    Label=2.6. Portion=3.2592%\n",
      "    Label=1.4. Portion=3.2419%\n",
      "    Label=2.3333333. Portion=0.0172%\n",
      "    Label=4.2. Portion=2.4832%\n",
      "    Label=4.4. Portion=2.0521%\n",
      "    Label=2.2. Portion=3.2764%\n",
      "    Label=3.4. Portion=3.9662%\n",
      "    Label=2.0. Portion=3.6386%\n",
      "    Label=3.6. Portion=3.1040%\n",
      "    Label=4.8. Portion=1.6037%\n",
      "    Label=0.67. Portion=0.0172%\n",
      "    Label=0.75. Portion=0.3276%\n",
      "    Label=2.5. Portion=0.6898%\n",
      "    Label=2.4. Portion=2.8798%\n",
      "    Label=0.5. Portion=0.3966%\n",
      "    Label=4.6. Portion=1.7244%\n",
      "    Label=3.8. Portion=4.1386%\n",
      "    Label=1.75. Portion=0.4656%\n",
      "    Label=4.25. Portion=0.5346%\n",
      "    Label=3.75. Portion=1.0864%\n",
      "    Label=3.5. Portion=1.0519%\n",
      "    Label=2.75. Portion=0.7760%\n",
      "    Label=4.0. Portion=4.5353%\n",
      "    Label=3.25. Portion=1.1381%\n",
      "    Label=2.25. Portion=0.4139%\n",
      "    Label=5.0. Portion=2.9833%\n",
      "    Label=1.5. Portion=0.4139%\n",
      "    Label=3.3333333. Portion=0.0172%\n",
      "    Label=3.333. Portion=0.3621%\n",
      "    Label=4.333. Portion=0.1380%\n",
      "    Label=0.333. Portion=0.0690%\n",
      "    Label=2.812. Portion=0.0172%\n",
      "    Label=0.083. Portion=0.0172%\n",
      "    Label=1.333. Portion=0.1552%\n",
      "    Label=3.056. Portion=0.0172%\n",
      "    Label=3.1. Portion=0.0172%\n",
      "    Label=1.67. Portion=0.0172%\n",
      "    Label=2.333. Portion=0.1207%\n",
      "    Label=0.25. Portion=0.3794%\n",
      "    Label=0.17. Portion=0.0172%\n",
      "    Label=4.5. Portion=0.4484%\n",
      "    Label=1.667. Portion=0.0690%\n",
      "    Label=1.25. Portion=0.2414%\n",
      "    Label=3.533. Portion=0.0172%\n",
      "    Label=0.417. Portion=0.0172%\n",
      "    Label=0.9. Portion=0.0345%\n",
      "    Label=4.133. Portion=0.0172%\n",
      "    Label=1.733. Portion=0.0172%\n",
      "    Label=3.857. Portion=0.0172%\n",
      "    Label=2.909. Portion=0.0172%\n",
      "    Label=0.1. Portion=0.0172%\n",
      "    Label=4.75. Portion=0.2759%\n",
      "    Label=0.944. Portion=0.0172%\n",
      "    Label=0.643. Portion=0.0172%\n",
      "    Label=2.667. Portion=0.1207%\n",
      "    Label=3.667. Portion=0.1380%\n",
      "    Label=2.818. Portion=0.0345%\n",
      "    Label=3.786. Portion=0.0172%\n",
      "    Label=3.692. Portion=0.0345%\n",
      "    Label=1.273. Portion=0.0172%\n",
      "    Label=0.889. Portion=0.0172%\n",
      "    Label=4.429. Portion=0.0172%\n",
      "    Label=2.1111112. Portion=0.0345%\n",
      "    Label=3.167. Portion=0.0172%\n",
      "    Label=4.214. Portion=0.0172%\n",
      "    Label=3.923. Portion=0.0172%\n",
      "    Label=3.833. Portion=0.0172%\n",
      "    Label=4.091. Portion=0.0345%\n",
      "    Label=0.118. Portion=0.0172%\n",
      "    Label=2.33. Portion=0.0172%\n",
      "    Label=2.625. Portion=0.0172%\n",
      "    Label=4.667. Portion=0.0517%\n",
      "    Label=4.778. Portion=0.0172%\n",
      "    Label=1.154. Portion=0.0172%\n",
      "    Label=2.692. Portion=0.0172%\n",
      "    Label=0.667. Portion=0.0517%\n",
      "    Label=1.533. Portion=0.0172%\n",
      "    Label=4.923. Portion=0.0172%\n",
      "    Label=3.929. Portion=0.0345%\n",
      "    Label=4.308. Portion=0.0172%\n",
      "    Label=2.647. Portion=0.0172%\n",
      "    Label=0.231. Portion=0.0172%\n",
      "    Label=1.1. Portion=0.0345%\n",
      "    Label=3.091. Portion=0.0172%\n",
      "    Label=2.588. Portion=0.0172%\n",
      "    Label=2.7. Portion=0.0172%\n",
      "    Label=0.067. Portion=0.0172%\n",
      "    Label=0.143. Portion=0.0172%\n",
      "    Label=3.769. Portion=0.0172%\n",
      "    Label=4.176. Portion=0.0172%\n",
      "    Label=1.5333333. Portion=0.0517%\n",
      "    Label=2.533. Portion=0.0172%\n",
      "    Label=3.444. Portion=0.0345%\n",
      "    Label=2.769. Portion=0.0172%\n",
      "    Label=2.615. Portion=0.0172%\n",
      "    Label=3.615. Portion=0.0172%\n",
      "    Label=2.583. Portion=0.0172%\n",
      "    Label=3.7777777. Portion=0.0345%\n",
      "    Label=3.067. Portion=0.0172%\n",
      "    Label=3.438. Portion=0.0172%\n",
      "    Label=3.824. Portion=0.0172%\n",
      "    Label=1.3. Portion=0.0172%\n",
      "    Label=3.111. Portion=0.0172%\n",
      "    Label=3.455. Portion=0.0172%\n",
      "    Label=0.778. Portion=0.0172%\n",
      "    Label=3.273. Portion=0.0172%\n",
      "    Label=4.571. Portion=0.0172%\n",
      "    Label=3.625. Portion=0.0172%\n",
      "    Label=3.231. Portion=0.0172%\n",
      "    Label=4.857. Portion=0.0345%\n",
      "    Label=0.833. Portion=0.0345%\n",
      "    Label=4.727. Portion=0.0172%\n",
      "    Label=2.4666667. Portion=0.0517%\n",
      "    Label=1.286. Portion=0.0172%\n",
      "    Label=4.33. Portion=0.0172%\n",
      "    Label=0.85. Portion=0.0172%\n",
      "    Label=3.67. Portion=0.0172%\n",
      "    Label=4.056. Portion=0.0172%\n",
      "    Label=3.643. Portion=0.0172%\n",
      "    Label=4.909. Portion=0.0345%\n",
      "    Label=1.846. Portion=0.0172%\n",
      "Total: 1450\n",
      "    Label=4.2. Portion=6.6207%\n",
      "    Label=4.8. Portion=4.6897%\n",
      "    Label=3.4. Portion=5.3103%\n",
      "    Label=3.25. Portion=1.5172%\n",
      "    Label=2.2. Portion=2.0690%\n",
      "    Label=1.75. Portion=0.3448%\n",
      "    Label=1.6. Portion=1.4483%\n",
      "    Label=4.0. Portion=10.1379%\n",
      "    Label=0.0. Portion=0.0690%\n",
      "    Label=1.2. Portion=1.0345%\n",
      "    Label=0.4. Portion=0.1379%\n",
      "    Label=2.33. Portion=0.1379%\n",
      "    Label=1.4. Portion=1.1034%\n",
      "    Label=2.8. Portion=1.7931%\n",
      "    Label=4.6. Portion=6.3448%\n",
      "    Label=3.2. Portion=4.1379%\n",
      "    Label=2.0. Portion=2.2069%\n",
      "    Label=3.8. Portion=6.0000%\n",
      "    Label=5.0. Portion=10.2759%\n",
      "    Label=1.8. Portion=1.7931%\n",
      "    Label=0.5. Portion=0.4138%\n",
      "    Label=2.4. Portion=1.5172%\n",
      "    Label=2.5. Portion=0.2759%\n",
      "    Label=0.6. Portion=0.3448%\n",
      "    Label=4.25. Portion=1.1034%\n",
      "    Label=3.6. Portion=6.5517%\n",
      "    Label=3.5. Portion=0.8276%\n",
      "    Label=3.765. Portion=0.0690%\n",
      "    Label=4.4. Portion=5.2414%\n",
      "    Label=2.25. Portion=0.2069%\n",
      "    Label=2.6. Portion=2.0000%\n",
      "    Label=3.0. Portion=5.3103%\n",
      "    Label=4.5. Portion=0.6207%\n",
      "    Label=1.643. Portion=0.0690%\n",
      "    Label=0.2. Portion=0.1379%\n",
      "    Label=3.75. Portion=1.5172%\n",
      "    Label=3.333. Portion=0.3448%\n",
      "    Label=1.0. Portion=1.0345%\n",
      "    Label=3.067. Portion=0.0690%\n",
      "    Label=1.5. Portion=0.2069%\n",
      "    Label=3.833. Portion=0.0690%\n",
      "    Label=4.75. Portion=0.8966%\n",
      "    Label=3.167. Portion=0.0690%\n",
      "    Label=2.75. Portion=0.4138%\n",
      "    Label=0.8. Portion=0.2759%\n",
      "    Label=2.917. Portion=0.0690%\n",
      "    Label=2.875. Portion=0.0690%\n",
      "    Label=3.941. Portion=0.0690%\n",
      "    Label=3.909. Portion=0.0690%\n",
      "    Label=3.933. Portion=0.0690%\n",
      "    Label=4.111. Portion=0.0690%\n",
      "    Label=4.875. Portion=0.0690%\n",
      "    Label=3.417. Portion=0.0690%\n",
      "    Label=2.533. Portion=0.0690%\n",
      "    Label=3.714. Portion=0.0690%\n",
      "    Label=3.857. Portion=0.0690%\n",
      "    Label=2.167. Portion=0.1379%\n",
      "    Label=4.1. Portion=0.1379%\n",
      "    Label=4.571429. Portion=0.2069%\n",
      "    Label=2.83. Portion=0.0690%\n",
      "    Label=3.091. Portion=0.0690%\n",
      "    Label=1.25. Portion=0.2069%\n",
      "    Label=1.7. Portion=0.0690%\n",
      "    Label=0.727. Portion=0.0690%\n",
      "    Label=0.636. Portion=0.0690%\n",
      "    Label=3.533. Portion=0.0690%\n",
      "    Label=3.875. Portion=0.0690%\n",
      "    Label=2.375. Portion=0.1379%\n",
      "    Label=3.938. Portion=0.0690%\n",
      "    Label=3.846. Portion=0.0690%\n",
      "    Label=4.333. Portion=0.0690%\n",
      "    Label=4.667. Portion=0.0690%\n",
      "    Label=1.667. Portion=0.0690%\n",
      "    Label=4.818. Portion=0.0690%\n",
      "    Label=1.556. Portion=0.1379%\n",
      "    Label=1.917. Portion=0.0690%\n",
      "    Label=1.714. Portion=0.0690%\n",
      "    Label=1.778. Portion=0.0690%\n",
      "    Label=1.583. Portion=0.1379%\n",
      "    Label=4.364. Portion=0.0690%\n",
      "    Label=3.1. Portion=0.1379%\n",
      "    Label=3.867. Portion=0.0690%\n",
      "Downloading and preparing dataset glue/wnli (download: 28.32 KiB, generated: 154.03 KiB, post-processed: Unknown size, total: 182.35 KiB) to /home/zining/.cache/huggingface/datasets/glue/wnli/1.0.0/dacbe3125aa31d7f70367a07a8a9e72a5a0bfeb5fc42e75c9db75b96da6053ad...\n"
     ]
    },
    {
     "data": {
      "application/vnd.jupyter.widget-view+json": {
       "model_id": "64efaf1fae3d467d99752839911e97f5",
       "version_major": 2,
       "version_minor": 0
      },
      "text/plain": [
       "Downloading:   0%|          | 0.00/29.0k [00:00<?, ?B/s]"
      ]
     },
     "metadata": {},
     "output_type": "display_data"
    },
    {
     "data": {
      "application/vnd.jupyter.widget-view+json": {
       "model_id": "e298b91a895b40798b4071077e244cda",
       "version_major": 2,
       "version_minor": 0
      },
      "text/plain": [
       "0 examples [00:00, ? examples/s]"
      ]
     },
     "metadata": {},
     "output_type": "display_data"
    },
    {
     "data": {
      "application/vnd.jupyter.widget-view+json": {
       "model_id": "7abade0bc6df4c37acd81741b0b8035c",
       "version_major": 2,
       "version_minor": 0
      },
      "text/plain": [
       "0 examples [00:00, ? examples/s]"
      ]
     },
     "metadata": {},
     "output_type": "display_data"
    },
    {
     "data": {
      "application/vnd.jupyter.widget-view+json": {
       "model_id": "8ed300775fb341c8ba923a20b86914de",
       "version_major": 2,
       "version_minor": 0
      },
      "text/plain": [
       "0 examples [00:00, ? examples/s]"
      ]
     },
     "metadata": {},
     "output_type": "display_data"
    },
    {
     "name": "stdout",
     "output_type": "stream",
     "text": [
      "Dataset glue downloaded and prepared to /home/zining/.cache/huggingface/datasets/glue/wnli/1.0.0/dacbe3125aa31d7f70367a07a8a9e72a5a0bfeb5fc42e75c9db75b96da6053ad. Subsequent calls will reuse this data.\n"
     ]
    },
    {
     "data": {
      "application/vnd.jupyter.widget-view+json": {
       "model_id": "495b1c2cdb2042b5b07c1dc5e0436292",
       "version_major": 2,
       "version_minor": 0
      },
      "text/plain": [
       "  0%|          | 0/3 [00:00<?, ?it/s]"
      ]
     },
     "metadata": {},
     "output_type": "display_data"
    },
    {
     "data": {
      "application/vnd.jupyter.widget-view+json": {
       "model_id": "303d1d79a6314487b080c96185523cd0",
       "version_major": 2,
       "version_minor": 0
      },
      "text/plain": [
       "  0%|          | 0/1 [00:00<?, ?ba/s]"
      ]
     },
     "metadata": {},
     "output_type": "display_data"
    },
    {
     "data": {
      "application/vnd.jupyter.widget-view+json": {
       "model_id": "57012c5292ac4d8ab53836c68d574fda",
       "version_major": 2,
       "version_minor": 0
      },
      "text/plain": [
       "  0%|          | 0/1 [00:00<?, ?ba/s]"
      ]
     },
     "metadata": {},
     "output_type": "display_data"
    },
    {
     "data": {
      "application/vnd.jupyter.widget-view+json": {
       "model_id": "d26cd3fb4e304302bbe7be0bbddcb6d2",
       "version_major": 2,
       "version_minor": 0
      },
      "text/plain": [
       "  0%|          | 0/1 [00:00<?, ?ba/s]"
      ]
     },
     "metadata": {},
     "output_type": "display_data"
    },
    {
     "data": {
      "application/vnd.jupyter.widget-view+json": {
       "model_id": "bf4b32b2cd5e4469b9506862cde8beec",
       "version_major": 2,
       "version_minor": 0
      },
      "text/plain": [
       "Creating CSV from Arrow format:   0%|          | 0/1 [00:00<?, ?ba/s]"
      ]
     },
     "metadata": {},
     "output_type": "display_data"
    },
    {
     "name": "stderr",
     "output_type": "stream",
     "text": [
      "Using custom data configuration wnli_processed-8534c337abb3118a\n"
     ]
    },
    {
     "name": "stdout",
     "output_type": "stream",
     "text": [
      "Downloading and preparing dataset csv/wnli_processed to /home/zining/.cache/huggingface/datasets/csv/wnli_processed-8534c337abb3118a/0.0.0/bf68a4c4aefa545d0712b2fcbb1b327f905bbe2f6425fbc5e8c25234acb9e14a...\n"
     ]
    },
    {
     "data": {
      "application/vnd.jupyter.widget-view+json": {
       "model_id": "0f478aced5dc4a9b86c386772c5d1109",
       "version_major": 2,
       "version_minor": 0
      },
      "text/plain": [
       "  0%|          | 0/1 [00:00<?, ?it/s]"
      ]
     },
     "metadata": {},
     "output_type": "display_data"
    },
    {
     "data": {
      "application/vnd.jupyter.widget-view+json": {
       "model_id": "480466d7432d4224b3cba2dfacdd4034",
       "version_major": 2,
       "version_minor": 0
      },
      "text/plain": [
       "  0%|          | 0/1 [00:00<?, ?it/s]"
      ]
     },
     "metadata": {},
     "output_type": "display_data"
    },
    {
     "name": "stderr",
     "output_type": "stream",
     "text": [
      "Using custom data configuration wnli_processed-8534c337abb3118a\n",
      "Reusing dataset csv (/home/zining/.cache/huggingface/datasets/csv/wnli_processed-8534c337abb3118a/0.0.0/bf68a4c4aefa545d0712b2fcbb1b327f905bbe2f6425fbc5e8c25234acb9e14a)\n"
     ]
    },
    {
     "name": "stdout",
     "output_type": "stream",
     "text": [
      "Dataset csv downloaded and prepared to /home/zining/.cache/huggingface/datasets/csv/wnli_processed-8534c337abb3118a/0.0.0/bf68a4c4aefa545d0712b2fcbb1b327f905bbe2f6425fbc5e8c25234acb9e14a. Subsequent calls will reuse this data.\n",
      "Total: 565\n",
      "    Label=0. Portion=51.8584%\n",
      "    Label=1. Portion=48.1416%\n",
      "Total: 141\n",
      "    Label=1. Portion=50.3546%\n",
      "    Label=0. Portion=49.6454%\n"
     ]
    }
   ],
   "source": [
    "for ds_name in [\"mrpc\", \"rte\", \"stsb\", \"wnli\"]:\n",
    "    ds = load_dataset(\"glue\", ds_name)\n",
    "    ds = ds.map(\n",
    "        lambda exs: add_lex_overlap(exs, \"sentence1\", \"sentence2\"), \n",
    "        batched=True)\n",
    "    ds[\"concat\"] = concatenate_datasets([ds[\"train\"], ds[\"validation\"]])\\\n",
    "        .sort(column=\"overlap_score\")\n",
    "    pth = Path(f\"../data/{ds_name}_processed\")\n",
    "    if not pth.exists():\n",
    "        pth.mkdir()\n",
    "    ds[\"concat\"].to_csv(f\"../data/{ds_name}_processed/sort_by_overlap.csv\", index=False)\n",
    "\n",
    "    ds_train = load_dataset(f\"../data/{ds_name}_processed\", split=\"train[:80%]\")\n",
    "    print_ds_label_constituency(ds_train)\n",
    "    ds_eval = load_dataset(f\"../data/{ds_name}_processed\", split=\"train[80%:]\")\n",
    "    print_ds_label_constituency(ds_eval)"
   ]
  },
  {
   "cell_type": "code",
   "execution_count": null,
   "id": "ffd0c593-b2ec-482b-8012-c395417157df",
   "metadata": {},
   "outputs": [],
   "source": []
  }
 ],
 "metadata": {
  "kernelspec": {
   "display_name": "Python 3",
   "language": "python",
   "name": "python3"
  },
  "language_info": {
   "codemirror_mode": {
    "name": "ipython",
    "version": 3
   },
   "file_extension": ".py",
   "mimetype": "text/x-python",
   "name": "python",
   "nbconvert_exporter": "python",
   "pygments_lexer": "ipython3",
   "version": "3.7.7"
  }
 },
 "nbformat": 4,
 "nbformat_minor": 5
}
