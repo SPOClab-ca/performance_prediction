{
 "cells": [
  {
   "cell_type": "markdown",
   "id": "382113ed-c023-4172-a7b1-90e7f040d2cd",
   "metadata": {},
   "source": [
    "# Split datasets"
   ]
  },
  {
   "cell_type": "code",
   "execution_count": 1,
   "id": "ab9f3f06-a557-4b66-98ee-02847204377e",
   "metadata": {},
   "outputs": [],
   "source": [
    "from datasets import load_dataset, concatenate_datasets\n",
    "import numpy as np\n",
    "from pathlib import Path"
   ]
  },
  {
   "cell_type": "code",
   "execution_count": 2,
   "id": "d6462328-8db4-4dd2-958d-18ffe4677a55",
   "metadata": {},
   "outputs": [],
   "source": [
    "def add_lex_overlap(examples, field1=\"premise\", field2=\"hypothesis\"):\n",
    "    overlap_scores = []\n",
    "    ps = examples[field1]\n",
    "    hs = examples[field2]\n",
    "    for p, h in zip(ps, hs):\n",
    "        plist = p.split()\n",
    "        hlist = h.split()\n",
    "        Np, Nh = len(plist), len(hlist)\n",
    "        N_overlap = 0\n",
    "        for pw in plist:\n",
    "            if pw in hlist:\n",
    "                N_overlap += 1\n",
    "        overlap_scores.append(N_overlap * 2 / (Np + Nh))\n",
    "    examples[\"overlap_score\"] = overlap_scores\n",
    "    return examples"
   ]
  },
  {
   "cell_type": "code",
   "execution_count": 3,
   "id": "8a56364c-d998-43d1-866d-4b0d8c747081",
   "metadata": {},
   "outputs": [
    {
     "name": "stderr",
     "output_type": "stream",
     "text": [
      "Reusing dataset glue (/h/zining/.cache/huggingface/datasets/glue/mnli/1.0.0/dacbe3125aa31d7f70367a07a8a9e72a5a0bfeb5fc42e75c9db75b96da6053ad)\n"
     ]
    },
    {
     "data": {
      "application/vnd.jupyter.widget-view+json": {
       "model_id": "dc6d68c4ae02406f90e52733346fa186",
       "version_major": 2,
       "version_minor": 0
      },
      "text/plain": [
       "  0%|          | 0/5 [00:00<?, ?it/s]"
      ]
     },
     "metadata": {},
     "output_type": "display_data"
    },
    {
     "name": "stderr",
     "output_type": "stream",
     "text": [
      "Loading cached processed dataset at /h/zining/.cache/huggingface/datasets/glue/mnli/1.0.0/dacbe3125aa31d7f70367a07a8a9e72a5a0bfeb5fc42e75c9db75b96da6053ad/cache-a701d1b0a20e9577.arrow\n",
      "Loading cached processed dataset at /h/zining/.cache/huggingface/datasets/glue/mnli/1.0.0/dacbe3125aa31d7f70367a07a8a9e72a5a0bfeb5fc42e75c9db75b96da6053ad/cache-153ec8ae57a036e8.arrow\n",
      "Loading cached processed dataset at /h/zining/.cache/huggingface/datasets/glue/mnli/1.0.0/dacbe3125aa31d7f70367a07a8a9e72a5a0bfeb5fc42e75c9db75b96da6053ad/cache-a3e73ec55f6b3bfa.arrow\n",
      "Loading cached processed dataset at /h/zining/.cache/huggingface/datasets/glue/mnli/1.0.0/dacbe3125aa31d7f70367a07a8a9e72a5a0bfeb5fc42e75c9db75b96da6053ad/cache-e90eb19572f598ed.arrow\n",
      "Loading cached processed dataset at /h/zining/.cache/huggingface/datasets/glue/mnli/1.0.0/dacbe3125aa31d7f70367a07a8a9e72a5a0bfeb5fc42e75c9db75b96da6053ad/cache-034d73483a5a6b17.arrow\n",
      "Loading cached sorted indices for dataset at /h/zining/.cache/huggingface/datasets/glue/mnli/1.0.0/dacbe3125aa31d7f70367a07a8a9e72a5a0bfeb5fc42e75c9db75b96da6053ad/cache-f7878a192d216271.arrow\n"
     ]
    }
   ],
   "source": [
    "ds = load_dataset(\"glue\", \"mnli\")\n",
    "ds = ds.map(\n",
    "    lambda exs: add_lex_overlap(exs, \"premise\", \"hypothesis\"), \n",
    "    batched=True)\n",
    "ds[\"concat\"] = concatenate_datasets([ds[\"train\"], ds[\"validation_matched\"], ds[\"validation_mismatched\"]]).sort(column=\"overlap_score\")"
   ]
  },
  {
   "cell_type": "code",
   "execution_count": 4,
   "id": "9ab46435-608c-488e-8391-eb4291f1eec2",
   "metadata": {},
   "outputs": [
    {
     "data": {
      "application/vnd.jupyter.widget-view+json": {
       "model_id": "75f738ea7918407db86a33f3f49ead07",
       "version_major": 2,
       "version_minor": 0
      },
      "text/plain": [
       "Creating CSV from Arrow format:   0%|          | 0/42 [00:00<?, ?ba/s]"
      ]
     },
     "metadata": {},
     "output_type": "display_data"
    },
    {
     "data": {
      "text/plain": [
       "81441112"
      ]
     },
     "execution_count": 4,
     "metadata": {},
     "output_type": "execute_result"
    }
   ],
   "source": [
    "ds[\"concat\"].to_csv(\"../data/mnli_processed/sort_by_overlap.csv\", index=False)\n",
    "# The way huggingface dataset to_csv works is: you save the csv to a directory\n",
    "# Then you load from that directory. This sort_by_overlap.csv is *automatically*\n",
    "# determined as \"train\", so you can query the split=\"train[:80%]\" to get the \n",
    "# first 80% of the dataset."
   ]
  },
  {
   "cell_type": "code",
   "execution_count": 5,
   "id": "1d7a1569-d902-4061-a145-ea019c692a0f",
   "metadata": {},
   "outputs": [
    {
     "name": "stderr",
     "output_type": "stream",
     "text": [
      "Using custom data configuration mnli_processed-61339352ecd9ae84\n"
     ]
    },
    {
     "name": "stdout",
     "output_type": "stream",
     "text": [
      "Downloading and preparing dataset csv/mnli_processed to /h/zining/.cache/huggingface/datasets/csv/mnli_processed-61339352ecd9ae84/0.0.0/bf68a4c4aefa545d0712b2fcbb1b327f905bbe2f6425fbc5e8c25234acb9e14a...\n"
     ]
    },
    {
     "data": {
      "application/vnd.jupyter.widget-view+json": {
       "model_id": "e76721e929a140c99e085cd2d7f9a9d9",
       "version_major": 2,
       "version_minor": 0
      },
      "text/plain": [
       "  0%|          | 0/1 [00:00<?, ?it/s]"
      ]
     },
     "metadata": {},
     "output_type": "display_data"
    },
    {
     "data": {
      "application/vnd.jupyter.widget-view+json": {
       "model_id": "7a0e80ae1c7e4890ae776912220fe039",
       "version_major": 2,
       "version_minor": 0
      },
      "text/plain": [
       "  0%|          | 0/1 [00:00<?, ?it/s]"
      ]
     },
     "metadata": {},
     "output_type": "display_data"
    },
    {
     "name": "stdout",
     "output_type": "stream",
     "text": [
      "Dataset csv downloaded and prepared to /h/zining/.cache/huggingface/datasets/csv/mnli_processed-61339352ecd9ae84/0.0.0/bf68a4c4aefa545d0712b2fcbb1b327f905bbe2f6425fbc5e8c25234acb9e14a. Subsequent calls will reuse this data.\n"
     ]
    },
    {
     "data": {
      "application/vnd.jupyter.widget-view+json": {
       "model_id": "9877c297a66e422194937f10fb114617",
       "version_major": 2,
       "version_minor": 0
      },
      "text/plain": [
       "  0%|          | 0/1 [00:00<?, ?it/s]"
      ]
     },
     "metadata": {},
     "output_type": "display_data"
    },
    {
     "data": {
      "text/plain": [
       "DatasetDict({\n",
       "    train: Dataset({\n",
       "        features: ['hypothesis', 'idx', 'label', 'overlap_score', 'premise'],\n",
       "        num_rows: 412349\n",
       "    })\n",
       "})"
      ]
     },
     "execution_count": 5,
     "metadata": {},
     "output_type": "execute_result"
    }
   ],
   "source": [
    "ds_full = load_dataset(\"../data/mnli_processed\")\n",
    "ds_full"
   ]
  },
  {
   "cell_type": "code",
   "execution_count": 6,
   "id": "7f54987e-dde0-4c80-90ce-db9d5d0fc796",
   "metadata": {},
   "outputs": [
    {
     "name": "stderr",
     "output_type": "stream",
     "text": [
      "Using custom data configuration mnli_processed-61339352ecd9ae84\n",
      "Reusing dataset csv (/h/zining/.cache/huggingface/datasets/csv/mnli_processed-61339352ecd9ae84/0.0.0/bf68a4c4aefa545d0712b2fcbb1b327f905bbe2f6425fbc5e8c25234acb9e14a)\n"
     ]
    },
    {
     "data": {
      "text/plain": [
       "Dataset({\n",
       "    features: ['hypothesis', 'idx', 'label', 'overlap_score', 'premise'],\n",
       "    num_rows: 329879\n",
       "})"
      ]
     },
     "execution_count": 6,
     "metadata": {},
     "output_type": "execute_result"
    }
   ],
   "source": [
    "ds_easy = load_dataset(\"../data/mnli_processed\", split=\"train[:80%]\")\n",
    "ds_easy"
   ]
  },
  {
   "cell_type": "code",
   "execution_count": 7,
   "id": "4baaaee9-cf2e-4959-89fa-3144a62576c9",
   "metadata": {},
   "outputs": [
    {
     "name": "stderr",
     "output_type": "stream",
     "text": [
      "Using custom data configuration mnli_processed-61339352ecd9ae84\n",
      "Reusing dataset csv (/h/zining/.cache/huggingface/datasets/csv/mnli_processed-61339352ecd9ae84/0.0.0/bf68a4c4aefa545d0712b2fcbb1b327f905bbe2f6425fbc5e8c25234acb9e14a)\n"
     ]
    },
    {
     "data": {
      "text/plain": [
       "Dataset({\n",
       "    features: ['hypothesis', 'idx', 'label', 'overlap_score', 'premise'],\n",
       "    num_rows: 82470\n",
       "})"
      ]
     },
     "execution_count": 7,
     "metadata": {},
     "output_type": "execute_result"
    }
   ],
   "source": [
    "ds_hard = load_dataset(\"../data/mnli_processed\", split=\"train[80%:]\")\n",
    "ds_hard"
   ]
  },
  {
   "cell_type": "code",
   "execution_count": null,
   "id": "033c64e6-e1b6-4e88-8dfe-9c8db2852d62",
   "metadata": {},
   "outputs": [],
   "source": []
  }
 ],
 "metadata": {
  "kernelspec": {
   "display_name": "Python 3",
   "language": "python",
   "name": "python3"
  },
  "language_info": {
   "codemirror_mode": {
    "name": "ipython",
    "version": 3
   },
   "file_extension": ".py",
   "mimetype": "text/x-python",
   "name": "python",
   "nbconvert_exporter": "python",
   "pygments_lexer": "ipython3",
   "version": "3.8.8"
  }
 },
 "nbformat": 4,
 "nbformat_minor": 5
}
