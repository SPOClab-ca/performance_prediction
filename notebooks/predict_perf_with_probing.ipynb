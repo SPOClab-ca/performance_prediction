{
 "cells": [
  {
   "cell_type": "markdown",
   "metadata": {},
   "source": [
    "## Predict GLUE performances with probing\n",
    "Does probing results predict the GLUE task performances?  \n",
    "This notebook: merge GLUE classification results and probing results into a table, so I can do OLS analysis later."
   ]
  },
  {
   "cell_type": "code",
   "execution_count": 1,
   "metadata": {},
   "outputs": [],
   "source": [
    "import pandas as pd\n",
    "import statsmodels.api as sm\n",
    "import statsmodels.formula.api as smf \n",
    "import numpy as np\n",
    "from pathlib import Path "
   ]
  },
  {
   "cell_type": "code",
   "execution_count": 8,
   "metadata": {},
   "outputs": [],
   "source": [
    "linreg_data = pd.read_csv(\"../reports/task1_predict_task_performance.csv\")"
   ]
  },
  {
   "cell_type": "code",
   "execution_count": 9,
   "metadata": {},
   "outputs": [
    {
     "data": {
      "text/html": [
       "<table class=\"simpletable\">\n",
       "<caption>OLS Regression Results</caption>\n",
       "<tr>\n",
       "  <th>Dep. Variable:</th>           <td>rte</td>       <th>  R-squared:         </th> <td>   0.689</td>\n",
       "</tr>\n",
       "<tr>\n",
       "  <th>Model:</th>                   <td>OLS</td>       <th>  Adj. R-squared:    </th> <td>   0.377</td>\n",
       "</tr>\n",
       "<tr>\n",
       "  <th>Method:</th>             <td>Least Squares</td>  <th>  F-statistic:       </th> <td>   2.211</td>\n",
       "</tr>\n",
       "<tr>\n",
       "  <th>Date:</th>             <td>Sat, 22 Jan 2022</td> <th>  Prob (F-statistic):</th>  <td>0.0918</td> \n",
       "</tr>\n",
       "<tr>\n",
       "  <th>Time:</th>                 <td>21:11:16</td>     <th>  Log-Likelihood:    </th> <td>  48.090</td>\n",
       "</tr>\n",
       "<tr>\n",
       "  <th>No. Observations:</th>      <td>    25</td>      <th>  AIC:               </th> <td>  -70.18</td>\n",
       "</tr>\n",
       "<tr>\n",
       "  <th>Df Residuals:</th>          <td>    12</td>      <th>  BIC:               </th> <td>  -54.34</td>\n",
       "</tr>\n",
       "<tr>\n",
       "  <th>Df Model:</th>              <td>    12</td>      <th>                     </th>     <td> </td>   \n",
       "</tr>\n",
       "<tr>\n",
       "  <th>Covariance Type:</th>      <td>nonrobust</td>    <th>                     </th>     <td> </td>   \n",
       "</tr>\n",
       "</table>\n",
       "<table class=\"simpletable\">\n",
       "<tr>\n",
       "            <td></td>               <th>coef</th>     <th>std err</th>      <th>t</th>      <th>P>|t|</th>  <th>[0.025</th>    <th>0.975]</th>  \n",
       "</tr>\n",
       "<tr>\n",
       "  <th>bigram_shift_layer_0</th>  <td>    3.0911</td> <td>    2.831</td> <td>    1.092</td> <td> 0.296</td> <td>   -3.078</td> <td>    9.260</td>\n",
       "</tr>\n",
       "<tr>\n",
       "  <th>bigram_shift_layer_1</th>  <td>   -2.2583</td> <td>    2.711</td> <td>   -0.833</td> <td> 0.421</td> <td>   -8.164</td> <td>    3.648</td>\n",
       "</tr>\n",
       "<tr>\n",
       "  <th>bigram_shift_layer_2</th>  <td>   -0.1363</td> <td>    0.962</td> <td>   -0.142</td> <td> 0.890</td> <td>   -2.232</td> <td>    1.960</td>\n",
       "</tr>\n",
       "<tr>\n",
       "  <th>bigram_shift_layer_3</th>  <td>   -0.1716</td> <td>    1.278</td> <td>   -0.134</td> <td> 0.895</td> <td>   -2.956</td> <td>    2.613</td>\n",
       "</tr>\n",
       "<tr>\n",
       "  <th>bigram_shift_layer_4</th>  <td>   -0.3510</td> <td>    0.998</td> <td>   -0.352</td> <td> 0.731</td> <td>   -2.525</td> <td>    1.823</td>\n",
       "</tr>\n",
       "<tr>\n",
       "  <th>bigram_shift_layer_5</th>  <td>    1.7382</td> <td>    1.244</td> <td>    1.397</td> <td> 0.188</td> <td>   -0.973</td> <td>    4.449</td>\n",
       "</tr>\n",
       "<tr>\n",
       "  <th>bigram_shift_layer_6</th>  <td>   -1.0122</td> <td>    1.546</td> <td>   -0.655</td> <td> 0.525</td> <td>   -4.381</td> <td>    2.357</td>\n",
       "</tr>\n",
       "<tr>\n",
       "  <th>bigram_shift_layer_7</th>  <td>   -0.1937</td> <td>    2.354</td> <td>   -0.082</td> <td> 0.936</td> <td>   -5.323</td> <td>    4.935</td>\n",
       "</tr>\n",
       "<tr>\n",
       "  <th>bigram_shift_layer_8</th>  <td>    0.6034</td> <td>    2.019</td> <td>    0.299</td> <td> 0.770</td> <td>   -3.796</td> <td>    5.003</td>\n",
       "</tr>\n",
       "<tr>\n",
       "  <th>bigram_shift_layer_9</th>  <td>   -0.8091</td> <td>    1.106</td> <td>   -0.732</td> <td> 0.478</td> <td>   -3.219</td> <td>    1.600</td>\n",
       "</tr>\n",
       "<tr>\n",
       "  <th>bigram_shift_layer_10</th> <td>    0.6890</td> <td>    1.415</td> <td>    0.487</td> <td> 0.635</td> <td>   -2.394</td> <td>    3.772</td>\n",
       "</tr>\n",
       "<tr>\n",
       "  <th>bigram_shift_layer_11</th> <td>    0.0685</td> <td>    1.080</td> <td>    0.063</td> <td> 0.951</td> <td>   -2.285</td> <td>    2.422</td>\n",
       "</tr>\n",
       "<tr>\n",
       "  <th>bigram_shift_layer_12</th> <td>   -0.0789</td> <td>    0.984</td> <td>   -0.080</td> <td> 0.937</td> <td>   -2.224</td> <td>    2.066</td>\n",
       "</tr>\n",
       "</table>\n",
       "<table class=\"simpletable\">\n",
       "<tr>\n",
       "  <th>Omnibus:</th>       <td> 0.927</td> <th>  Durbin-Watson:     </th> <td>   2.338</td>\n",
       "</tr>\n",
       "<tr>\n",
       "  <th>Prob(Omnibus):</th> <td> 0.629</td> <th>  Jarque-Bera (JB):  </th> <td>   0.374</td>\n",
       "</tr>\n",
       "<tr>\n",
       "  <th>Skew:</th>          <td> 0.297</td> <th>  Prob(JB):          </th> <td>   0.830</td>\n",
       "</tr>\n",
       "<tr>\n",
       "  <th>Kurtosis:</th>      <td> 3.070</td> <th>  Cond. No.          </th> <td>    889.</td>\n",
       "</tr>\n",
       "</table><br/><br/>Notes:<br/>[1] Standard Errors assume that the covariance matrix of the errors is correctly specified."
      ],
      "text/plain": [
       "<class 'statsmodels.iolib.summary.Summary'>\n",
       "\"\"\"\n",
       "                            OLS Regression Results                            \n",
       "==============================================================================\n",
       "Dep. Variable:                    rte   R-squared:                       0.689\n",
       "Model:                            OLS   Adj. R-squared:                  0.377\n",
       "Method:                 Least Squares   F-statistic:                     2.211\n",
       "Date:                Sat, 22 Jan 2022   Prob (F-statistic):             0.0918\n",
       "Time:                        21:11:16   Log-Likelihood:                 48.090\n",
       "No. Observations:                  25   AIC:                            -70.18\n",
       "Df Residuals:                      12   BIC:                            -54.34\n",
       "Df Model:                          12                                         \n",
       "Covariance Type:            nonrobust                                         \n",
       "=========================================================================================\n",
       "                            coef    std err          t      P>|t|      [0.025      0.975]\n",
       "-----------------------------------------------------------------------------------------\n",
       "bigram_shift_layer_0      3.0911      2.831      1.092      0.296      -3.078       9.260\n",
       "bigram_shift_layer_1     -2.2583      2.711     -0.833      0.421      -8.164       3.648\n",
       "bigram_shift_layer_2     -0.1363      0.962     -0.142      0.890      -2.232       1.960\n",
       "bigram_shift_layer_3     -0.1716      1.278     -0.134      0.895      -2.956       2.613\n",
       "bigram_shift_layer_4     -0.3510      0.998     -0.352      0.731      -2.525       1.823\n",
       "bigram_shift_layer_5      1.7382      1.244      1.397      0.188      -0.973       4.449\n",
       "bigram_shift_layer_6     -1.0122      1.546     -0.655      0.525      -4.381       2.357\n",
       "bigram_shift_layer_7     -0.1937      2.354     -0.082      0.936      -5.323       4.935\n",
       "bigram_shift_layer_8      0.6034      2.019      0.299      0.770      -3.796       5.003\n",
       "bigram_shift_layer_9     -0.8091      1.106     -0.732      0.478      -3.219       1.600\n",
       "bigram_shift_layer_10     0.6890      1.415      0.487      0.635      -2.394       3.772\n",
       "bigram_shift_layer_11     0.0685      1.080      0.063      0.951      -2.285       2.422\n",
       "bigram_shift_layer_12    -0.0789      0.984     -0.080      0.937      -2.224       2.066\n",
       "==============================================================================\n",
       "Omnibus:                        0.927   Durbin-Watson:                   2.338\n",
       "Prob(Omnibus):                  0.629   Jarque-Bera (JB):                0.374\n",
       "Skew:                           0.297   Prob(JB):                        0.830\n",
       "Kurtosis:                       3.070   Cond. No.                         889.\n",
       "==============================================================================\n",
       "\n",
       "Notes:\n",
       "[1] Standard Errors assume that the covariance matrix of the errors is correctly specified.\n",
       "\"\"\""
      ]
     },
     "execution_count": 9,
     "metadata": {},
     "output_type": "execute_result"
    }
   ],
   "source": [
    "y = linreg_data[\"rte\"]\n",
    "#X = linreg_data.drop(columns=[\"LM\", \"rte\", \"cola\", \"qnli\", \"mrpc\", \"sst2\", \"qqp\"])\n",
    "X = linreg_data[[f\"bigram_shift_layer_{i}\" for i in range(13)]]\n",
    "model = sm.OLS(y, X)\n",
    "results = model.fit()\n",
    "results.summary()"
   ]
  },
  {
   "cell_type": "code",
   "execution_count": 11,
   "metadata": {},
   "outputs": [
    {
     "data": {
      "text/plain": [
       "bigram_shift_layer_0     0.296370\n",
       "bigram_shift_layer_1     0.421051\n",
       "bigram_shift_layer_2     0.889690\n",
       "bigram_shift_layer_3     0.895450\n",
       "bigram_shift_layer_4     0.731088\n",
       "bigram_shift_layer_5     0.187712\n",
       "bigram_shift_layer_6     0.525022\n",
       "bigram_shift_layer_7     0.935777\n",
       "bigram_shift_layer_8     0.770182\n",
       "bigram_shift_layer_9     0.478428\n",
       "bigram_shift_layer_10    0.635115\n",
       "bigram_shift_layer_11    0.950519\n",
       "bigram_shift_layer_12    0.937407\n",
       "dtype: float64"
      ]
     },
     "execution_count": 11,
     "metadata": {},
     "output_type": "execute_result"
    }
   ],
   "source": [
    "results.pvalues"
   ]
  },
  {
   "cell_type": "code",
   "execution_count": null,
   "metadata": {},
   "outputs": [],
   "source": []
  }
 ],
 "metadata": {
  "interpreter": {
   "hash": "91113a6d945a23a1d7d4073c51114eab5e8effc568ceeb9bfdc399b075c747f0"
  },
  "kernelspec": {
   "display_name": "Python 3",
   "language": "python",
   "name": "python3"
  },
  "language_info": {
   "codemirror_mode": {
    "name": "ipython",
    "version": 3
   },
   "file_extension": ".py",
   "mimetype": "text/x-python",
   "name": "python",
   "nbconvert_exporter": "python",
   "pygments_lexer": "ipython3",
   "version": "3.9.2"
  }
 },
 "nbformat": 4,
 "nbformat_minor": 4
}
